{
  "nbformat": 4,
  "nbformat_minor": 0,
  "metadata": {
    "colab": {
      "name": "LS_DS_222_Choose_appropriate_visualizations.ipynb",
      "version": "0.3.2",
      "provenance": [],
      "collapsed_sections": [
        "Cn-xMBPcljbc"
      ]
    },
    "kernelspec": {
      "display_name": "Python 3",
      "language": "python",
      "name": "python3"
    }
  },
  "cells": [
    {
      "metadata": {
        "colab_type": "text",
        "id": "1nwMfulDljaS"
      },
      "cell_type": "markdown",
      "source": [
        "_Lambda School Data Science_\n",
        "# Choose appropriate visualizations\n",
        "\n",
        "Objectives\n",
        "- fix misleading visualizations\n",
        "- use Seaborn to visualize distributions and relationships with continuous and discrete variables\n",
        "\n",
        "Links\n",
        "- [How to Spot Visualization Lies](https://flowingdata.com/2017/02/09/how-to-spot-visualization-lies/)\n",
        "- [Visual Vocabulary - Vega Edition](http://ft.com/vocabulary)\n",
        "- [Choosing a Python Visualization Tool flowchart](http://pbpython.com/python-vis-flowchart.html)\n",
        "- [Searborn example gallery](http://seaborn.pydata.org/examples/index.html) & [tutorial](http://seaborn.pydata.org/tutorial.html)\n"
      ]
    },
    {
      "metadata": {
        "colab_type": "text",
        "id": "yp50E_pnljaV"
      },
      "cell_type": "markdown",
      "source": [
        "# Upgrade Seaborn\n",
        "\n",
        "Make sure you have at least version 0.9.0.\n",
        "\n",
        "On Colab, go to **Restart runtime** after you run the `pip` command."
      ]
    },
    {
      "metadata": {
        "colab_type": "code",
        "id": "MJAy4kPfljaV",
        "colab": {
          "base_uri": "https://localhost:8080/",
          "height": 474
        },
        "outputId": "70a3c009-9170-4f5d-b6de-c349303034c5"
      },
      "cell_type": "code",
      "source": [
        "!pip install --upgrade seaborn"
      ],
      "execution_count": 1,
      "outputs": [
        {
          "output_type": "stream",
          "text": [
            "Collecting seaborn\n",
            "\u001b[?25l  Downloading https://files.pythonhosted.org/packages/a8/76/220ba4420459d9c4c9c9587c6ce607bf56c25b3d3d2de62056efe482dadc/seaborn-0.9.0-py3-none-any.whl (208kB)\n",
            "\r\u001b[K    4% |█▋                              | 10kB 14.8MB/s eta 0:00:01\r\u001b[K    9% |███▏                            | 20kB 3.3MB/s eta 0:00:01\r\u001b[K    14% |████▊                           | 30kB 4.7MB/s eta 0:00:01\r\u001b[K    19% |██████▎                         | 40kB 3.0MB/s eta 0:00:01\r\u001b[K    24% |███████▉                        | 51kB 3.7MB/s eta 0:00:01\r\u001b[K    29% |█████████▌                      | 61kB 4.4MB/s eta 0:00:01\r\u001b[K    34% |███████████                     | 71kB 5.0MB/s eta 0:00:01\r\u001b[K    39% |████████████▋                   | 81kB 5.6MB/s eta 0:00:01\r\u001b[K    44% |██████████████▏                 | 92kB 6.3MB/s eta 0:00:01\r\u001b[K    49% |███████████████▊                | 102kB 4.9MB/s eta 0:00:01\r\u001b[K    54% |█████████████████▎              | 112kB 5.0MB/s eta 0:00:01\r\u001b[K    59% |███████████████████             | 122kB 6.7MB/s eta 0:00:01\r\u001b[K    63% |████████████████████▌           | 133kB 6.6MB/s eta 0:00:01\r\u001b[K    68% |██████████████████████          | 143kB 12.0MB/s eta 0:00:01\r\u001b[K    73% |███████████████████████▋        | 153kB 12.3MB/s eta 0:00:01\r\u001b[K    78% |█████████████████████████▏      | 163kB 12.3MB/s eta 0:00:01\r\u001b[K    83% |██████████████████████████▊     | 174kB 11.9MB/s eta 0:00:01\r\u001b[K    88% |████████████████████████████▍   | 184kB 12.0MB/s eta 0:00:01\r\u001b[K    93% |██████████████████████████████  | 194kB 12.0MB/s eta 0:00:01\r\u001b[K    98% |███████████████████████████████▌| 204kB 37.5MB/s eta 0:00:01\r\u001b[K    100% |████████████████████████████████| 215kB 25.3MB/s \n",
            "\u001b[?25hRequirement already satisfied, skipping upgrade: numpy>=1.9.3 in /usr/local/lib/python3.6/dist-packages (from seaborn) (1.14.6)\n",
            "Requirement already satisfied, skipping upgrade: pandas>=0.15.2 in /usr/local/lib/python3.6/dist-packages (from seaborn) (0.22.0)\n",
            "Requirement already satisfied, skipping upgrade: matplotlib>=1.4.3 in /usr/local/lib/python3.6/dist-packages (from seaborn) (3.0.3)\n",
            "Requirement already satisfied, skipping upgrade: scipy>=0.14.0 in /usr/local/lib/python3.6/dist-packages (from seaborn) (1.1.0)\n",
            "Requirement already satisfied, skipping upgrade: pytz>=2011k in /usr/local/lib/python3.6/dist-packages (from pandas>=0.15.2->seaborn) (2018.9)\n",
            "Requirement already satisfied, skipping upgrade: python-dateutil>=2 in /usr/local/lib/python3.6/dist-packages (from pandas>=0.15.2->seaborn) (2.5.3)\n",
            "Requirement already satisfied, skipping upgrade: cycler>=0.10 in /usr/local/lib/python3.6/dist-packages (from matplotlib>=1.4.3->seaborn) (0.10.0)\n",
            "Requirement already satisfied, skipping upgrade: kiwisolver>=1.0.1 in /usr/local/lib/python3.6/dist-packages (from matplotlib>=1.4.3->seaborn) (1.0.1)\n",
            "Requirement already satisfied, skipping upgrade: pyparsing!=2.0.4,!=2.1.2,!=2.1.6,>=2.0.1 in /usr/local/lib/python3.6/dist-packages (from matplotlib>=1.4.3->seaborn) (2.3.1)\n",
            "Requirement already satisfied, skipping upgrade: six>=1.5 in /usr/local/lib/python3.6/dist-packages (from python-dateutil>=2->pandas>=0.15.2->seaborn) (1.11.0)\n",
            "Requirement already satisfied, skipping upgrade: setuptools in /usr/local/lib/python3.6/dist-packages (from kiwisolver>=1.0.1->matplotlib>=1.4.3->seaborn) (40.8.0)\n",
            "Installing collected packages: seaborn\n",
            "  Found existing installation: seaborn 0.7.1\n",
            "    Uninstalling seaborn-0.7.1:\n",
            "      Successfully uninstalled seaborn-0.7.1\n",
            "Successfully installed seaborn-0.9.0\n"
          ],
          "name": "stdout"
        },
        {
          "output_type": "display_data",
          "data": {
            "application/vnd.colab-display-data+json": {
              "pip_warning": {
                "packages": [
                  "seaborn"
                ]
              }
            }
          },
          "metadata": {
            "tags": []
          }
        }
      ]
    },
    {
      "metadata": {
        "colab_type": "code",
        "id": "fXZFXHccljaZ",
        "colab": {
          "base_uri": "https://localhost:8080/",
          "height": 35
        },
        "outputId": "dffb24e2-3d58-438d-efc7-0f4930fe0bed"
      },
      "cell_type": "code",
      "source": [
        "import seaborn as sns\n",
        "sns.__version__"
      ],
      "execution_count": 1,
      "outputs": [
        {
          "output_type": "execute_result",
          "data": {
            "text/plain": [
              "'0.9.0'"
            ]
          },
          "metadata": {
            "tags": []
          },
          "execution_count": 1
        }
      ]
    },
    {
      "metadata": {
        "colab_type": "text",
        "id": "Md1lMTx1ljab"
      },
      "cell_type": "markdown",
      "source": [
        "# Fix misleading visualizations"
      ]
    },
    {
      "metadata": {
        "colab_type": "code",
        "id": "5kTa_5Lnljac",
        "colab": {}
      },
      "cell_type": "code",
      "source": [
        "%matplotlib inline\n",
        "import matplotlib.pyplot as plt\n",
        "import numpy as np\n",
        "import pandas as pd"
      ],
      "execution_count": 0,
      "outputs": []
    },
    {
      "metadata": {
        "colab_type": "code",
        "id": "FkXJKBMOljae",
        "colab": {
          "base_uri": "https://localhost:8080/",
          "height": 237
        },
        "outputId": "a2641a3f-cce9-4237-f114-4b56a50b8af7"
      },
      "cell_type": "code",
      "source": [
        "!wget https://raw.githubusercontent.com/LambdaSchool/DS-Unit-1-Sprint-3-Data-Storytelling/master/module2-choose-appropriate-visualizations/misleading.py\n",
        "    \n",
        "import misleading"
      ],
      "execution_count": 3,
      "outputs": [
        {
          "output_type": "stream",
          "text": [
            "--2019-04-02 16:24:36--  https://raw.githubusercontent.com/LambdaSchool/DS-Unit-1-Sprint-3-Data-Storytelling/master/module2-choose-appropriate-visualizations/misleading.py\n",
            "Resolving raw.githubusercontent.com (raw.githubusercontent.com)... 151.101.0.133, 151.101.64.133, 151.101.128.133, ...\n",
            "Connecting to raw.githubusercontent.com (raw.githubusercontent.com)|151.101.0.133|:443... connected.\n",
            "HTTP request sent, awaiting response... 200 OK\n",
            "Length: 1258 (1.2K) [text/plain]\n",
            "Saving to: ‘misleading.py’\n",
            "\n",
            "\rmisleading.py         0%[                    ]       0  --.-KB/s               \rmisleading.py       100%[===================>]   1.23K  --.-KB/s    in 0s      \n",
            "\n",
            "2019-04-02 16:24:36 (108 MB/s) - ‘misleading.py’ saved [1258/1258]\n",
            "\n"
          ],
          "name": "stdout"
        }
      ]
    },
    {
      "metadata": {
        "colab_type": "text",
        "id": "CBe1A0IJljag"
      },
      "cell_type": "markdown",
      "source": [
        "### Fix misleading plot #1"
      ]
    },
    {
      "metadata": {
        "colab_type": "code",
        "id": "nSkHZKmRljah",
        "colab": {
          "base_uri": "https://localhost:8080/",
          "height": 315
        },
        "outputId": "0b55d996-2183-4149-c524-c8d0197e5a97"
      },
      "cell_type": "code",
      "source": [
        "misleading.plot1();"
      ],
      "execution_count": 4,
      "outputs": [
        {
          "output_type": "display_data",
          "data": {
            "image/png": "[encoded data removed]",
            "text/plain": [
              "<Figure size 432x288 with 1 Axes>"
            ]
          },
          "metadata": {
            "tags": []
          }
        }
      ]
    },
    {
      "metadata": {
        "id": "BQcehz-z3-y-",
        "colab_type": "code",
        "colab": {
          "base_uri": "https://localhost:8080/",
          "height": 333
        },
        "outputId": "5458b9d8-b623-4b74-9375-fe21f5f6ef65"
      },
      "cell_type": "code",
      "source": [
        "insurance = pd.DataFrame(\n",
        "    index=['State Farm', 'GEICO'], \n",
        "    data={'Market Share %': [18.07, 12.79]})\n",
        "\n",
        "insurance.plot.bar(ylim=(0,20))"
      ],
      "execution_count": 6,
      "outputs": [
        {
          "output_type": "execute_result",
          "data": {
            "text/plain": [
              "<matplotlib.axes._subplots.AxesSubplot at 0x7f00a7289198>"
            ]
          },
          "metadata": {
            "tags": []
          },
          "execution_count": 6
        },
        {
          "output_type": "display_data",
          "data": {
            "image/png": "[encoded data removed]",
            "text/plain": [
              "<Figure size 432x288 with 1 Axes>"
            ]
          },
          "metadata": {
            "tags": []
          }
        }
      ]
    },
    {
      "metadata": {
        "colab_type": "text",
        "id": "6RB2pFjQljal"
      },
      "cell_type": "markdown",
      "source": [
        "### Fix misleading plot #2"
      ]
    },
    {
      "metadata": {
        "colab_type": "code",
        "id": "PAjwPf8vljam",
        "colab": {
          "base_uri": "https://localhost:8080/",
          "height": 310
        },
        "outputId": "3109cc13-bca9-4ff1-82cf-343973c6fe5a"
      },
      "cell_type": "code",
      "source": [
        "misleading.plot2();"
      ],
      "execution_count": 7,
      "outputs": [
        {
          "output_type": "display_data",
          "data": {
            "image/png": "[encoded data removed]",
            "text/plain": [
              "<Figure size 360x360 with 1 Axes>"
            ]
          },
          "metadata": {
            "tags": []
          }
        }
      ]
    },
    {
      "metadata": {
        "id": "XegNpnFy4inX",
        "colab_type": "code",
        "colab": {
          "base_uri": "https://localhost:8080/",
          "height": 138
        },
        "outputId": "78e7cd62-6e6b-4767-a09d-7052badadbf6"
      },
      "cell_type": "code",
      "source": [
        "other = pd.DataFrame(index=['Other'], data={'Market Share %': [100- 18.07- 12.79]})\n",
        "\n",
        "insurance = insurance.append(other)\n",
        "\n",
        "insurance"
      ],
      "execution_count": 8,
      "outputs": [
        {
          "output_type": "execute_result",
          "data": {
            "text/html": [
              "<div>\n",
              "<style scoped>\n",
              "    .dataframe tbody tr th:only-of-type {\n",
              "        vertical-align: middle;\n",
              "    }\n",
              "\n",
              "    .dataframe tbody tr th {\n",
              "        vertical-align: top;\n",
              "    }\n",
              "\n",
              "    .dataframe thead th {\n",
              "        text-align: right;\n",
              "    }\n",
              "</style>\n",
              "<table border=\"1\" class=\"dataframe\">\n",
              "  <thead>\n",
              "    <tr style=\"text-align: right;\">\n",
              "      <th></th>\n",
              "      <th>Market Share %</th>\n",
              "    </tr>\n",
              "  </thead>\n",
              "  <tbody>\n",
              "    <tr>\n",
              "      <th>State Farm</th>\n",
              "      <td>18.07</td>\n",
              "    </tr>\n",
              "    <tr>\n",
              "      <th>GEICO</th>\n",
              "      <td>12.79</td>\n",
              "    </tr>\n",
              "    <tr>\n",
              "      <th>Other</th>\n",
              "      <td>69.14</td>\n",
              "    </tr>\n",
              "  </tbody>\n",
              "</table>\n",
              "</div>"
            ],
            "text/plain": [
              "            Market Share %\n",
              "State Farm           18.07\n",
              "GEICO                12.79\n",
              "Other                69.14"
            ]
          },
          "metadata": {
            "tags": []
          },
          "execution_count": 8
        }
      ]
    },
    {
      "metadata": {
        "id": "WPyJbEqC5pE7",
        "colab_type": "code",
        "colab": {
          "base_uri": "https://localhost:8080/",
          "height": 328
        },
        "outputId": "9c8fc2a9-213c-4424-a191-d81ccfca02bf"
      },
      "cell_type": "code",
      "source": [
        "insurance.plot.pie('Market Share %', figsize=(5,5))"
      ],
      "execution_count": 9,
      "outputs": [
        {
          "output_type": "execute_result",
          "data": {
            "text/plain": [
              "<matplotlib.axes._subplots.AxesSubplot at 0x7f00a5164048>"
            ]
          },
          "metadata": {
            "tags": []
          },
          "execution_count": 9
        },
        {
          "output_type": "display_data",
          "data": {
            "image/png": "[encoded data removed]",
            "text/plain": [
              "<Figure size 360x360 with 1 Axes>"
            ]
          },
          "metadata": {
            "tags": []
          }
        }
      ]
    },
    {
      "metadata": {
        "colab_type": "text",
        "id": "6FISiBH3ljaw"
      },
      "cell_type": "markdown",
      "source": [
        "## Fix misleading plot #3"
      ]
    },
    {
      "metadata": {
        "colab_type": "text",
        "id": "Dwcc8Jylljax"
      },
      "cell_type": "markdown",
      "source": [
        "_If you're on Jupyter (not Colab) then uncomment and run this cell below:_"
      ]
    },
    {
      "metadata": {
        "colab_type": "code",
        "id": "TaSuwairljax",
        "colab": {}
      },
      "cell_type": "code",
      "source": [
        "# import altair as alt\n",
        "# alt.renderers.enable('notebook')"
      ],
      "execution_count": 0,
      "outputs": []
    },
    {
      "metadata": {
        "colab_type": "code",
        "id": "JMirz9RMljaz",
        "colab": {
          "base_uri": "https://localhost:8080/",
          "height": 331
        },
        "outputId": "e655fa15-8e3d-46a9-914e-4d58eba04434"
      },
      "cell_type": "code",
      "source": [
        "misleading.plot3()"
      ],
      "execution_count": 10,
      "outputs": [
        {
          "output_type": "execute_result",
          "data": {
            "text/plain": [
              "Chart({\n",
              "  data: UrlData({\n",
              "    format: TopoDataFormat({\n",
              "      feature: 'states',\n",
              "      type: 'topojson'\n",
              "    }),\n",
              "    url: 'https://vega.github.io/vega-datasets/data/us-10m.json'\n",
              "  }),\n",
              "  encoding: EncodingWithFacet({\n",
              "    color: Color({\n",
              "      shorthand: 'State Farm policy premiums',\n",
              "      type: 'quantitative'\n",
              "    })\n",
              "  }),\n",
              "  height: 300,\n",
              "  mark: 'geoshape',\n",
              "  projection: Projection({\n",
              "    type: 'albersUsa'\n",
              "  }),\n",
              "  transform: [LookupTransform({\n",
              "    from: LookupData({\n",
              "      data:                    state  id  State Farm policy premiums  \\\n",
              "      0                Alabama   1                      768213   \n",
              "      1                 Alaska   2                      128613   \n",
              "      2                Arizona   4                      760003   \n",
              "      3               Arkansas   5                      454931   \n",
              "      4             California   6                     3655463   \n",
              "      5               Colorado   8                      827143   \n",
              "      6            Connecticut   9                      169773   \n",
              "      7               Delaware  10                      191319   \n",
              "      8   District of Columbia  11                       67231   \n",
              "      9                Florida  12                     2806322   \n",
              "      10               Georgia  13                     1761224   \n",
              "      11                Hawaii  15                      133498   \n",
              "      12                 Idaho  16                      130613   \n",
              "      13              Illinois  17                     2256543   \n",
              "      14               Indiana  18                      861382   \n",
              "      15                  Iowa  19                      368898   \n",
              "      16                Kansas  20                      351343   \n",
              "      17              Kentucky  21                      680433   \n",
              "      18             Louisiana  22                     1415980   \n",
              "      19                 Maine  23                      101111   \n",
              "      20              Maryland  24                      883401   \n",
              "      21         Massachusetts  25                           0   \n",
              "      22              Michigan  26                     1580398   \n",
              "      23             Minnesota  27                      851940   \n",
              "      24           Mississippi  28                      467887   \n",
              "      25              Missouri  29                      883774   \n",
              "      26               Montana  30                      156816   \n",
              "      27              Nebraska  31                      273727   \n",
              "      28                Nevada  32                      404688   \n",
              "      29         New Hampshire  33                      103340   \n",
              "      30            New Jersey  34                      619623   \n",
              "      31            New Mexico  35                      261922   \n",
              "      32              New York  36                     1666653   \n",
              "      33        North Carolina  37                      842368   \n",
              "      34          North Dakota  38                       67282   \n",
              "      35                  Ohio  39                     1240075   \n",
              "      36              Oklahoma  40                      636063   \n",
              "      37                Oregon  41                      564416   \n",
              "      38          Pennsylvania  42                     1654528   \n",
              "      39          Rhode Island  44                           0   \n",
              "      40        South Carolina  45                      874436   \n",
              "      41          South Dakota  46                      101912   \n",
              "      42             Tennessee  47                      889329   \n",
              "      43                 Texas  48                     3395165   \n",
              "      44                  Utah  49                      300403   \n",
              "      45               Vermont  50                       30003   \n",
              "      46              Virginia  51                      878312   \n",
              "      47            Washington  53                      794882   \n",
              "      48         West Virginia  54                      323608   \n",
              "      49             Wisconsin  55                      443680   \n",
              "      50               Wyoming  56                       90412   \n",
              "      51           Puerto Rico  72                           0   \n",
              "      \n",
              "          BERKSHIRE HATHAWAY GRP  STATE TOTAL  \n",
              "      0                   282947      3025561  \n",
              "      1                    81366       454623  \n",
              "      2                   604049      4373055  \n",
              "      3                    96908      1777917  \n",
              "      4                  2091720     25255501  \n",
              "      5                   365797      4057463  \n",
              "      6                   486498      2795415  \n",
              "      7                   129033       802005  \n",
              "      8                   115149       325239  \n",
              "      9                  3952147     17333354  \n",
              "      10                  821326      7571988  \n",
              "      11                  184743       722550  \n",
              "      12                   87222       863636  \n",
              "      13                  412978      7028885  \n",
              "      14                  201200      3506499  \n",
              "      15                   58105      1650388  \n",
              "      16                   76533      1725608  \n",
              "      17                  186915      2805864  \n",
              "      18                  369492      4136224  \n",
              "      19                   68109       699558  \n",
              "      20                 1059508      4554586  \n",
              "      21                  473913      4924736  \n",
              "      22                       0      8462142  \n",
              "      23                  108942      3412460  \n",
              "      24                  100827      1760180  \n",
              "      25                  214191      3606590  \n",
              "      26                   33538       668513  \n",
              "      27                   61046      1167135  \n",
              "      28                  262815      2129828  \n",
              "      29                  103403       806545  \n",
              "      30                 1441019      7375823  \n",
              "      31                  174865      1284430  \n",
              "      32                 3926684     12633982  \n",
              "      33                  560700      5543700  \n",
              "      34                   15516       454376  \n",
              "      35                  405652      6303148  \n",
              "      36                  151388      2515842  \n",
              "      37                  223187      2647434  \n",
              "      38                  602848      8270326  \n",
              "      39                   97597       867558  \n",
              "      40                  426033      3583918  \n",
              "      41                   15682       508569  \n",
              "      42                  292357      3769652  \n",
              "      43                 2127633     19180816  \n",
              "      44                  139315      1723931  \n",
              "      45                   52939       359996  \n",
              "      46                  884489      5105360  \n",
              "      47                  478922      4780616  \n",
              "      48                  110806      1209872  \n",
              "      49                  131845      2950711  \n",
              "      50                   30187       374169  \n",
              "      51                       0       444480  ,\n",
              "      fields: ['State Farm policy premiums'],\n",
              "      key: 'id'\n",
              "    }),\n",
              "    lookup: 'id'\n",
              "  })],\n",
              "  width: 500\n",
              "})"
            ],
            "text/html": [
              "<!DOCTYPE html>\n",
              "<html>\n",
              "<head>\n",
              "  <style>\n",
              "    .vega-actions a {\n",
              "        margin-right: 12px;\n",
              "        color: #757575;\n",
              "        font-weight: normal;\n",
              "        font-size: 13px;\n",
              "    }\n",
              "    .error {\n",
              "        color: red;\n",
              "    }\n",
              "  </style>\n",
              "  <script type=\"text/javascript\" src=\"https://cdn.jsdelivr.net/npm//vega@4\"></script>\n",
              "  <script type=\"text/javascript\" src=\"https://cdn.jsdelivr.net/npm//vega-lite@2.6.0\"></script>\n",
              "  <script type=\"text/javascript\" src=\"https://cdn.jsdelivr.net/npm//vega-embed@3\"></script>\n",
              "</head>\n",
              "<body>\n",
              "  <div id=\"altair-viz\"></div>\n",
              "  <script>\n",
              "      var spec = {\"config\": {\"view\": {\"width\": 400, \"height\": 300}}, \"data\": {\"url\": \"https://vega.github.io/vega-datasets/data/us-10m.json\", \"format\": {\"feature\": \"states\", \"type\": \"topojson\"}}, \"mark\": \"geoshape\", \"encoding\": {\"color\": {\"type\": \"quantitative\", \"field\": \"State Farm policy premiums\"}}, \"height\": 300, \"projection\": {\"type\": \"albersUsa\"}, \"transform\": [{\"lookup\": \"id\", \"from\": {\"data\": {\"name\": \"data-b615a17f98b0ca7d11f99dcf36616c5d\"}, \"key\": \"id\", \"fields\": [\"State Farm policy premiums\"]}}], \"width\": 500, \"$schema\": \"https://vega.github.io/schema/vega-lite/v2.6.0.json\", \"datasets\": {\"data-b615a17f98b0ca7d11f99dcf36616c5d\": [{\"state\": \"Alabama\", \"id\": 1, \"State Farm policy premiums\": 768213, \"BERKSHIRE HATHAWAY GRP\": 282947, \"STATE TOTAL\": 3025561}, {\"state\": \"Alaska\", \"id\": 2, \"State Farm policy premiums\": 128613, \"BERKSHIRE HATHAWAY GRP\": 81366, \"STATE TOTAL\": 454623}, {\"state\": \"Arizona\", \"id\": 4, \"State Farm policy premiums\": 760003, \"BERKSHIRE HATHAWAY GRP\": 604049, \"STATE TOTAL\": 4373055}, {\"state\": \"Arkansas\", \"id\": 5, \"State Farm policy premiums\": 454931, \"BERKSHIRE HATHAWAY GRP\": 96908, \"STATE TOTAL\": 1777917}, {\"state\": \"California\", \"id\": 6, \"State Farm policy premiums\": 3655463, \"BERKSHIRE HATHAWAY GRP\": 2091720, \"STATE TOTAL\": 25255501}, {\"state\": \"Colorado\", \"id\": 8, \"State Farm policy premiums\": 827143, \"BERKSHIRE HATHAWAY GRP\": 365797, \"STATE TOTAL\": 4057463}, {\"state\": \"Connecticut\", \"id\": 9, \"State Farm policy premiums\": 169773, \"BERKSHIRE HATHAWAY GRP\": 486498, \"STATE TOTAL\": 2795415}, {\"state\": \"Delaware\", \"id\": 10, \"State Farm policy premiums\": 191319, \"BERKSHIRE HATHAWAY GRP\": 129033, \"STATE TOTAL\": 802005}, {\"state\": \"District of Columbia\", \"id\": 11, \"State Farm policy premiums\": 67231, \"BERKSHIRE HATHAWAY GRP\": 115149, \"STATE TOTAL\": 325239}, {\"state\": \"Florida\", \"id\": 12, \"State Farm policy premiums\": 2806322, \"BERKSHIRE HATHAWAY GRP\": 3952147, \"STATE TOTAL\": 17333354}, {\"state\": \"Georgia\", \"id\": 13, \"State Farm policy premiums\": 1761224, \"BERKSHIRE HATHAWAY GRP\": 821326, \"STATE TOTAL\": 7571988}, {\"state\": \"Hawaii\", \"id\": 15, \"State Farm policy premiums\": 133498, \"BERKSHIRE HATHAWAY GRP\": 184743, \"STATE TOTAL\": 722550}, {\"state\": \"Idaho\", \"id\": 16, \"State Farm policy premiums\": 130613, \"BERKSHIRE HATHAWAY GRP\": 87222, \"STATE TOTAL\": 863636}, {\"state\": \"Illinois\", \"id\": 17, \"State Farm policy premiums\": 2256543, \"BERKSHIRE HATHAWAY GRP\": 412978, \"STATE TOTAL\": 7028885}, {\"state\": \"Indiana\", \"id\": 18, \"State Farm policy premiums\": 861382, \"BERKSHIRE HATHAWAY GRP\": 201200, \"STATE TOTAL\": 3506499}, {\"state\": \"Iowa\", \"id\": 19, \"State Farm policy premiums\": 368898, \"BERKSHIRE HATHAWAY GRP\": 58105, \"STATE TOTAL\": 1650388}, {\"state\": \"Kansas\", \"id\": 20, \"State Farm policy premiums\": 351343, \"BERKSHIRE HATHAWAY GRP\": 76533, \"STATE TOTAL\": 1725608}, {\"state\": \"Kentucky\", \"id\": 21, \"State Farm policy premiums\": 680433, \"BERKSHIRE HATHAWAY GRP\": 186915, \"STATE TOTAL\": 2805864}, {\"state\": \"Louisiana\", \"id\": 22, \"State Farm policy premiums\": 1415980, \"BERKSHIRE HATHAWAY GRP\": 369492, \"STATE TOTAL\": 4136224}, {\"state\": \"Maine\", \"id\": 23, \"State Farm policy premiums\": 101111, \"BERKSHIRE HATHAWAY GRP\": 68109, \"STATE TOTAL\": 699558}, {\"state\": \"Maryland\", \"id\": 24, \"State Farm policy premiums\": 883401, \"BERKSHIRE HATHAWAY GRP\": 1059508, \"STATE TOTAL\": 4554586}, {\"state\": \"Massachusetts\", \"id\": 25, \"State Farm policy premiums\": 0, \"BERKSHIRE HATHAWAY GRP\": 473913, \"STATE TOTAL\": 4924736}, {\"state\": \"Michigan\", \"id\": 26, \"State Farm policy premiums\": 1580398, \"BERKSHIRE HATHAWAY GRP\": 0, \"STATE TOTAL\": 8462142}, {\"state\": \"Minnesota\", \"id\": 27, \"State Farm policy premiums\": 851940, \"BERKSHIRE HATHAWAY GRP\": 108942, \"STATE TOTAL\": 3412460}, {\"state\": \"Mississippi\", \"id\": 28, \"State Farm policy premiums\": 467887, \"BERKSHIRE HATHAWAY GRP\": 100827, \"STATE TOTAL\": 1760180}, {\"state\": \"Missouri\", \"id\": 29, \"State Farm policy premiums\": 883774, \"BERKSHIRE HATHAWAY GRP\": 214191, \"STATE TOTAL\": 3606590}, {\"state\": \"Montana\", \"id\": 30, \"State Farm policy premiums\": 156816, \"BERKSHIRE HATHAWAY GRP\": 33538, \"STATE TOTAL\": 668513}, {\"state\": \"Nebraska\", \"id\": 31, \"State Farm policy premiums\": 273727, \"BERKSHIRE HATHAWAY GRP\": 61046, \"STATE TOTAL\": 1167135}, {\"state\": \"Nevada\", \"id\": 32, \"State Farm policy premiums\": 404688, \"BERKSHIRE HATHAWAY GRP\": 262815, \"STATE TOTAL\": 2129828}, {\"state\": \"New Hampshire\", \"id\": 33, \"State Farm policy premiums\": 103340, \"BERKSHIRE HATHAWAY GRP\": 103403, \"STATE TOTAL\": 806545}, {\"state\": \"New Jersey\", \"id\": 34, \"State Farm policy premiums\": 619623, \"BERKSHIRE HATHAWAY GRP\": 1441019, \"STATE TOTAL\": 7375823}, {\"state\": \"New Mexico\", \"id\": 35, \"State Farm policy premiums\": 261922, \"BERKSHIRE HATHAWAY GRP\": 174865, \"STATE TOTAL\": 1284430}, {\"state\": \"New York\", \"id\": 36, \"State Farm policy premiums\": 1666653, \"BERKSHIRE HATHAWAY GRP\": 3926684, \"STATE TOTAL\": 12633982}, {\"state\": \"North Carolina\", \"id\": 37, \"State Farm policy premiums\": 842368, \"BERKSHIRE HATHAWAY GRP\": 560700, \"STATE TOTAL\": 5543700}, {\"state\": \"North Dakota\", \"id\": 38, \"State Farm policy premiums\": 67282, \"BERKSHIRE HATHAWAY GRP\": 15516, \"STATE TOTAL\": 454376}, {\"state\": \"Ohio\", \"id\": 39, \"State Farm policy premiums\": 1240075, \"BERKSHIRE HATHAWAY GRP\": 405652, \"STATE TOTAL\": 6303148}, {\"state\": \"Oklahoma\", \"id\": 40, \"State Farm policy premiums\": 636063, \"BERKSHIRE HATHAWAY GRP\": 151388, \"STATE TOTAL\": 2515842}, {\"state\": \"Oregon\", \"id\": 41, \"State Farm policy premiums\": 564416, \"BERKSHIRE HATHAWAY GRP\": 223187, \"STATE TOTAL\": 2647434}, {\"state\": \"Pennsylvania\", \"id\": 42, \"State Farm policy premiums\": 1654528, \"BERKSHIRE HATHAWAY GRP\": 602848, \"STATE TOTAL\": 8270326}, {\"state\": \"Rhode Island\", \"id\": 44, \"State Farm policy premiums\": 0, \"BERKSHIRE HATHAWAY GRP\": 97597, \"STATE TOTAL\": 867558}, {\"state\": \"South Carolina\", \"id\": 45, \"State Farm policy premiums\": 874436, \"BERKSHIRE HATHAWAY GRP\": 426033, \"STATE TOTAL\": 3583918}, {\"state\": \"South Dakota\", \"id\": 46, \"State Farm policy premiums\": 101912, \"BERKSHIRE HATHAWAY GRP\": 15682, \"STATE TOTAL\": 508569}, {\"state\": \"Tennessee\", \"id\": 47, \"State Farm policy premiums\": 889329, \"BERKSHIRE HATHAWAY GRP\": 292357, \"STATE TOTAL\": 3769652}, {\"state\": \"Texas\", \"id\": 48, \"State Farm policy premiums\": 3395165, \"BERKSHIRE HATHAWAY GRP\": 2127633, \"STATE TOTAL\": 19180816}, {\"state\": \"Utah\", \"id\": 49, \"State Farm policy premiums\": 300403, \"BERKSHIRE HATHAWAY GRP\": 139315, \"STATE TOTAL\": 1723931}, {\"state\": \"Vermont\", \"id\": 50, \"State Farm policy premiums\": 30003, \"BERKSHIRE HATHAWAY GRP\": 52939, \"STATE TOTAL\": 359996}, {\"state\": \"Virginia\", \"id\": 51, \"State Farm policy premiums\": 878312, \"BERKSHIRE HATHAWAY GRP\": 884489, \"STATE TOTAL\": 5105360}, {\"state\": \"Washington\", \"id\": 53, \"State Farm policy premiums\": 794882, \"BERKSHIRE HATHAWAY GRP\": 478922, \"STATE TOTAL\": 4780616}, {\"state\": \"West Virginia\", \"id\": 54, \"State Farm policy premiums\": 323608, \"BERKSHIRE HATHAWAY GRP\": 110806, \"STATE TOTAL\": 1209872}, {\"state\": \"Wisconsin\", \"id\": 55, \"State Farm policy premiums\": 443680, \"BERKSHIRE HATHAWAY GRP\": 131845, \"STATE TOTAL\": 2950711}, {\"state\": \"Wyoming\", \"id\": 56, \"State Farm policy premiums\": 90412, \"BERKSHIRE HATHAWAY GRP\": 30187, \"STATE TOTAL\": 374169}, {\"state\": \"Puerto Rico\", \"id\": 72, \"State Farm policy premiums\": 0, \"BERKSHIRE HATHAWAY GRP\": 0, \"STATE TOTAL\": 444480}]}};\n",
              "      var embedOpt = {\"mode\": \"vega-lite\"};\n",
              "\n",
              "      function showError(el, error){\n",
              "          el.innerHTML = ('<div class=\"error\" style=\"color:red;\">'\n",
              "                          + '<p>JavaScript Error: ' + error.message + '</p>'\n",
              "                          + \"<p>This usually means there's a typo in your chart specification. \"\n",
              "                          + \"See the javascript console for the full traceback.</p>\"\n",
              "                          + '</div>');\n",
              "          throw error;\n",
              "      }\n",
              "      const el = document.getElementById('altair-viz');\n",
              "      vegaEmbed(\"#altair-viz\", spec, embedOpt)\n",
              "        .catch(error => showError(el, error));\n",
              "\n",
              "  </script>\n",
              "</body>\n",
              "</html>"
            ]
          },
          "metadata": {
            "tags": []
          },
          "execution_count": 10
        }
      ]
    },
    {
      "metadata": {
        "id": "P2lXe4be7_-S",
        "colab_type": "code",
        "colab": {
          "base_uri": "https://localhost:8080/",
          "height": 198
        },
        "outputId": "dfc30b80-6761-43af-af57-5504fe5a3f0f"
      },
      "cell_type": "code",
      "source": [
        "url = 'https://raw.githubusercontent.com/Nolanole/DS-Unit-1-Sprint-3-Data-Storytelling/master/module2-choose-appropriate-visualizations/direct_written_premium_by_state_by_group_private_passenger_auto.csv'\n",
        "df = pd.read_csv(url)\n",
        "df.head()"
      ],
      "execution_count": 16,
      "outputs": [
        {
          "output_type": "execute_result",
          "data": {
            "text/html": [
              "<div>\n",
              "<style scoped>\n",
              "    .dataframe tbody tr th:only-of-type {\n",
              "        vertical-align: middle;\n",
              "    }\n",
              "\n",
              "    .dataframe tbody tr th {\n",
              "        vertical-align: top;\n",
              "    }\n",
              "\n",
              "    .dataframe thead th {\n",
              "        text-align: right;\n",
              "    }\n",
              "</style>\n",
              "<table border=\"1\" class=\"dataframe\">\n",
              "  <thead>\n",
              "    <tr style=\"text-align: right;\">\n",
              "      <th></th>\n",
              "      <th>state</th>\n",
              "      <th>id</th>\n",
              "      <th>STATE FARM GRP</th>\n",
              "      <th>BERKSHIRE HATHAWAY GRP</th>\n",
              "      <th>STATE TOTAL</th>\n",
              "    </tr>\n",
              "  </thead>\n",
              "  <tbody>\n",
              "    <tr>\n",
              "      <th>0</th>\n",
              "      <td>Alabama</td>\n",
              "      <td>1</td>\n",
              "      <td>768213</td>\n",
              "      <td>282947</td>\n",
              "      <td>3025561</td>\n",
              "    </tr>\n",
              "    <tr>\n",
              "      <th>1</th>\n",
              "      <td>Alaska</td>\n",
              "      <td>2</td>\n",
              "      <td>128613</td>\n",
              "      <td>81366</td>\n",
              "      <td>454623</td>\n",
              "    </tr>\n",
              "    <tr>\n",
              "      <th>2</th>\n",
              "      <td>Arizona</td>\n",
              "      <td>4</td>\n",
              "      <td>760003</td>\n",
              "      <td>604049</td>\n",
              "      <td>4373055</td>\n",
              "    </tr>\n",
              "    <tr>\n",
              "      <th>3</th>\n",
              "      <td>Arkansas</td>\n",
              "      <td>5</td>\n",
              "      <td>454931</td>\n",
              "      <td>96908</td>\n",
              "      <td>1777917</td>\n",
              "    </tr>\n",
              "    <tr>\n",
              "      <th>4</th>\n",
              "      <td>California</td>\n",
              "      <td>6</td>\n",
              "      <td>3655463</td>\n",
              "      <td>2091720</td>\n",
              "      <td>25255501</td>\n",
              "    </tr>\n",
              "  </tbody>\n",
              "</table>\n",
              "</div>"
            ],
            "text/plain": [
              "        state  id  STATE FARM GRP  BERKSHIRE HATHAWAY GRP  STATE TOTAL\n",
              "0     Alabama   1          768213                  282947      3025561\n",
              "1      Alaska   2          128613                   81366       454623\n",
              "2     Arizona   4          760003                  604049      4373055\n",
              "3    Arkansas   5          454931                   96908      1777917\n",
              "4  California   6         3655463                 2091720     25255501"
            ]
          },
          "metadata": {
            "tags": []
          },
          "execution_count": 16
        }
      ]
    },
    {
      "metadata": {
        "id": "J1SXGJ1T9DLU",
        "colab_type": "code",
        "colab": {
          "base_uri": "https://localhost:8080/",
          "height": 198
        },
        "outputId": "c201d856-77bd-4727-d389-0d75cecb4517"
      },
      "cell_type": "code",
      "source": [
        "df = df.rename(columns={'STATE FARM GRP': 'State Farm policy premiums', 'BERKSHIRE HATHAWAY GRP': 'Berkshire policy premiums'})\n",
        "df['State Farm Market share %'] = df['State Farm policy premiums'] / df['STATE TOTAL']\n",
        "\n",
        "df.head()"
      ],
      "execution_count": 19,
      "outputs": [
        {
          "output_type": "execute_result",
          "data": {
            "text/html": [
              "<div>\n",
              "<style scoped>\n",
              "    .dataframe tbody tr th:only-of-type {\n",
              "        vertical-align: middle;\n",
              "    }\n",
              "\n",
              "    .dataframe tbody tr th {\n",
              "        vertical-align: top;\n",
              "    }\n",
              "\n",
              "    .dataframe thead th {\n",
              "        text-align: right;\n",
              "    }\n",
              "</style>\n",
              "<table border=\"1\" class=\"dataframe\">\n",
              "  <thead>\n",
              "    <tr style=\"text-align: right;\">\n",
              "      <th></th>\n",
              "      <th>state</th>\n",
              "      <th>id</th>\n",
              "      <th>State Farm policy premiums</th>\n",
              "      <th>Berkshire policy premiums</th>\n",
              "      <th>STATE TOTAL</th>\n",
              "      <th>State Farm Market share %</th>\n",
              "    </tr>\n",
              "  </thead>\n",
              "  <tbody>\n",
              "    <tr>\n",
              "      <th>0</th>\n",
              "      <td>Alabama</td>\n",
              "      <td>1</td>\n",
              "      <td>768213</td>\n",
              "      <td>282947</td>\n",
              "      <td>3025561</td>\n",
              "      <td>0.253908</td>\n",
              "    </tr>\n",
              "    <tr>\n",
              "      <th>1</th>\n",
              "      <td>Alaska</td>\n",
              "      <td>2</td>\n",
              "      <td>128613</td>\n",
              "      <td>81366</td>\n",
              "      <td>454623</td>\n",
              "      <td>0.282900</td>\n",
              "    </tr>\n",
              "    <tr>\n",
              "      <th>2</th>\n",
              "      <td>Arizona</td>\n",
              "      <td>4</td>\n",
              "      <td>760003</td>\n",
              "      <td>604049</td>\n",
              "      <td>4373055</td>\n",
              "      <td>0.173792</td>\n",
              "    </tr>\n",
              "    <tr>\n",
              "      <th>3</th>\n",
              "      <td>Arkansas</td>\n",
              "      <td>5</td>\n",
              "      <td>454931</td>\n",
              "      <td>96908</td>\n",
              "      <td>1777917</td>\n",
              "      <td>0.255879</td>\n",
              "    </tr>\n",
              "    <tr>\n",
              "      <th>4</th>\n",
              "      <td>California</td>\n",
              "      <td>6</td>\n",
              "      <td>3655463</td>\n",
              "      <td>2091720</td>\n",
              "      <td>25255501</td>\n",
              "      <td>0.144739</td>\n",
              "    </tr>\n",
              "  </tbody>\n",
              "</table>\n",
              "</div>"
            ],
            "text/plain": [
              "        state  id  State Farm policy premiums  Berkshire policy premiums  \\\n",
              "0     Alabama   1                      768213                     282947   \n",
              "1      Alaska   2                      128613                      81366   \n",
              "2     Arizona   4                      760003                     604049   \n",
              "3    Arkansas   5                      454931                      96908   \n",
              "4  California   6                     3655463                    2091720   \n",
              "\n",
              "   STATE TOTAL  State Farm Market share %  \n",
              "0      3025561                   0.253908  \n",
              "1       454623                   0.282900  \n",
              "2      4373055                   0.173792  \n",
              "3      1777917                   0.255879  \n",
              "4     25255501                   0.144739  "
            ]
          },
          "metadata": {
            "tags": []
          },
          "execution_count": 19
        }
      ]
    },
    {
      "metadata": {
        "id": "OFB57CUT51Db",
        "colab_type": "code",
        "colab": {
          "base_uri": "https://localhost:8080/",
          "height": 331
        },
        "outputId": "aee2c1f5-62cb-4225-846a-6492bdaef9f8"
      },
      "cell_type": "code",
      "source": [
        "import altair as alt\n",
        "from vega_datasets import data\n",
        "\n",
        "states = alt.topo_feature(data.us_10m.url, 'states')\n",
        "source = data.population_engineers_hurricanes.url\n",
        "variable = 'State Farm Market share %'\n",
        "\n",
        "\n",
        "alt.Chart(states).mark_geoshape().encode(\n",
        "    alt.Color(variable, type='quantitative')\n",
        "    ).transform_lookup(\n",
        "        lookup='id',\n",
        "        from_=alt.LookupData(df, 'id', [variable])\n",
        "    ).properties(\n",
        "        width=500,\n",
        "        height=300\n",
        "    ).project(\n",
        "        type='albersUsa')"
      ],
      "execution_count": 21,
      "outputs": [
        {
          "output_type": "execute_result",
          "data": {
            "text/plain": [
              "Chart({\n",
              "  data: UrlData({\n",
              "    format: TopoDataFormat({\n",
              "      feature: 'states',\n",
              "      type: 'topojson'\n",
              "    }),\n",
              "    url: 'https://vega.github.io/vega-datasets/data/us-10m.json'\n",
              "  }),\n",
              "  encoding: EncodingWithFacet({\n",
              "    color: Color({\n",
              "      shorthand: 'State Farm Market share %',\n",
              "      type: 'quantitative'\n",
              "    })\n",
              "  }),\n",
              "  height: 300,\n",
              "  mark: 'geoshape',\n",
              "  projection: Projection({\n",
              "    type: 'albersUsa'\n",
              "  }),\n",
              "  transform: [LookupTransform({\n",
              "    from: LookupData({\n",
              "      data:                    state  id  State Farm policy premiums  \\\n",
              "      0                Alabama   1                      768213   \n",
              "      1                 Alaska   2                      128613   \n",
              "      2                Arizona   4                      760003   \n",
              "      3               Arkansas   5                      454931   \n",
              "      4             California   6                     3655463   \n",
              "      5               Colorado   8                      827143   \n",
              "      6            Connecticut   9                      169773   \n",
              "      7               Delaware  10                      191319   \n",
              "      8   District of Columbia  11                       67231   \n",
              "      9                Florida  12                     2806322   \n",
              "      10               Georgia  13                     1761224   \n",
              "      11                Hawaii  15                      133498   \n",
              "      12                 Idaho  16                      130613   \n",
              "      13              Illinois  17                     2256543   \n",
              "      14               Indiana  18                      861382   \n",
              "      15                  Iowa  19                      368898   \n",
              "      16                Kansas  20                      351343   \n",
              "      17              Kentucky  21                      680433   \n",
              "      18             Louisiana  22                     1415980   \n",
              "      19                 Maine  23                      101111   \n",
              "      20              Maryland  24                      883401   \n",
              "      21         Massachusetts  25                           0   \n",
              "      22              Michigan  26                     1580398   \n",
              "      23             Minnesota  27                      851940   \n",
              "      24           Mississippi  28                      467887   \n",
              "      25              Missouri  29                      883774   \n",
              "      26               Montana  30                      156816   \n",
              "      27              Nebraska  31                      273727   \n",
              "      28                Nevada  32                      404688   \n",
              "      29         New Hampshire  33                      103340   \n",
              "      30            New Jersey  34                      619623   \n",
              "      31            New Mexico  35                      261922   \n",
              "      32              New York  36                     1666653   \n",
              "      33        North Carolina  37                      842368   \n",
              "      34          North Dakota  38                       67282   \n",
              "      35                  Ohio  39                     1240075   \n",
              "      36              Oklahoma  40                      636063   \n",
              "      37                Oregon  41                      564416   \n",
              "      38          Pennsylvania  42                     1654528   \n",
              "      39          Rhode Island  44                           0   \n",
              "      40        South Carolina  45                      874436   \n",
              "      41          South Dakota  46                      101912   \n",
              "      42             Tennessee  47                      889329   \n",
              "      43                 Texas  48                     3395165   \n",
              "      44                  Utah  49                      300403   \n",
              "      45               Vermont  50                       30003   \n",
              "      46              Virginia  51                      878312   \n",
              "      47            Washington  53                      794882   \n",
              "      48         West Virginia  54                      323608   \n",
              "      49             Wisconsin  55                      443680   \n",
              "      50               Wyoming  56                       90412   \n",
              "      51           Puerto Rico  72                           0   \n",
              "      \n",
              "          Berkshire policy premiums  STATE TOTAL  State Farm Market share %  \n",
              "      0                      282947      3025561                   0.253908  \n",
              "      1                       81366       454623                   0.282900  \n",
              "      2                      604049      4373055                   0.173792  \n",
              "      3                       96908      1777917                   0.255879  \n",
              "      4                     2091720     25255501                   0.144739  \n",
              "      5                      365797      4057463                   0.203857  \n",
              "      6                      486498      2795415                   0.060733  \n",
              "      7                      129033       802005                   0.238551  \n",
              "      8                      115149       325239                   0.206713  \n",
              "      9                     3952147     17333354                   0.161903  \n",
              "      10                     821326      7571988                   0.232597  \n",
              "      11                     184743       722550                   0.184760  \n",
              "      12                      87222       863636                   0.151236  \n",
              "      13                     412978      7028885                   0.321039  \n",
              "      14                     201200      3506499                   0.245653  \n",
              "      15                      58105      1650388                   0.223522  \n",
              "      16                      76533      1725608                   0.203605  \n",
              "      17                     186915      2805864                   0.242504  \n",
              "      18                     369492      4136224                   0.342336  \n",
              "      19                      68109       699558                   0.144536  \n",
              "      20                    1059508      4554586                   0.193959  \n",
              "      21                     473913      4924736                   0.000000  \n",
              "      22                          0      8462142                   0.186761  \n",
              "      23                     108942      3412460                   0.249656  \n",
              "      24                     100827      1760180                   0.265818  \n",
              "      25                     214191      3606590                   0.245044  \n",
              "      26                      33538       668513                   0.234574  \n",
              "      27                      61046      1167135                   0.234529  \n",
              "      28                     262815      2129828                   0.190010  \n",
              "      29                     103403       806545                   0.128127  \n",
              "      30                    1441019      7375823                   0.084007  \n",
              "      31                     174865      1284430                   0.203921  \n",
              "      32                    3926684     12633982                   0.131918  \n",
              "      33                     560700      5543700                   0.151951  \n",
              "      34                      15516       454376                   0.148076  \n",
              "      35                     405652      6303148                   0.196739  \n",
              "      36                     151388      2515842                   0.252823  \n",
              "      37                     223187      2647434                   0.213194  \n",
              "      38                     602848      8270326                   0.200056  \n",
              "      39                      97597       867558                   0.000000  \n",
              "      40                     426033      3583918                   0.243989  \n",
              "      41                      15682       508569                   0.200390  \n",
              "      42                     292357      3769652                   0.235918  \n",
              "      43                    2127633     19180816                   0.177008  \n",
              "      44                     139315      1723931                   0.174255  \n",
              "      45                      52939       359996                   0.083343  \n",
              "      46                     884489      5105360                   0.172037  \n",
              "      47                     478922      4780616                   0.166272  \n",
              "      48                     110806      1209872                   0.267473  \n",
              "      49                     131845      2950711                   0.150364  \n",
              "      50                      30187       374169                   0.241634  \n",
              "      51                          0       444480                   0.000000  ,\n",
              "      fields: ['State Farm Market share %'],\n",
              "      key: 'id'\n",
              "    }),\n",
              "    lookup: 'id'\n",
              "  })],\n",
              "  width: 500\n",
              "})"
            ],
            "text/html": [
              "<!DOCTYPE html>\n",
              "<html>\n",
              "<head>\n",
              "  <style>\n",
              "    .vega-actions a {\n",
              "        margin-right: 12px;\n",
              "        color: #757575;\n",
              "        font-weight: normal;\n",
              "        font-size: 13px;\n",
              "    }\n",
              "    .error {\n",
              "        color: red;\n",
              "    }\n",
              "  </style>\n",
              "  <script type=\"text/javascript\" src=\"https://cdn.jsdelivr.net/npm//vega@4\"></script>\n",
              "  <script type=\"text/javascript\" src=\"https://cdn.jsdelivr.net/npm//vega-lite@2.6.0\"></script>\n",
              "  <script type=\"text/javascript\" src=\"https://cdn.jsdelivr.net/npm//vega-embed@3\"></script>\n",
              "</head>\n",
              "<body>\n",
              "  <div id=\"altair-viz\"></div>\n",
              "  <script>\n",
              "      var spec = {\"config\": {\"view\": {\"width\": 400, \"height\": 300}}, \"data\": {\"url\": \"https://vega.github.io/vega-datasets/data/us-10m.json\", \"format\": {\"feature\": \"states\", \"type\": \"topojson\"}}, \"mark\": \"geoshape\", \"encoding\": {\"color\": {\"type\": \"quantitative\", \"field\": \"State Farm Market share %\"}}, \"height\": 300, \"projection\": {\"type\": \"albersUsa\"}, \"transform\": [{\"lookup\": \"id\", \"from\": {\"data\": {\"name\": \"data-dcea345fe6914aa6268cfe5d9ba629b9\"}, \"key\": \"id\", \"fields\": [\"State Farm Market share %\"]}}], \"width\": 500, \"$schema\": \"https://vega.github.io/schema/vega-lite/v2.6.0.json\", \"datasets\": {\"data-dcea345fe6914aa6268cfe5d9ba629b9\": [{\"state\": \"Alabama\", \"id\": 1, \"State Farm policy premiums\": 768213, \"Berkshire policy premiums\": 282947, \"STATE TOTAL\": 3025561, \"State Farm Market share %\": 0.2539076224210981}, {\"state\": \"Alaska\", \"id\": 2, \"State Farm policy premiums\": 128613, \"Berkshire policy premiums\": 81366, \"STATE TOTAL\": 454623, \"State Farm Market share %\": 0.28290033720247326}, {\"state\": \"Arizona\", \"id\": 4, \"State Farm policy premiums\": 760003, \"Berkshire policy premiums\": 604049, \"STATE TOTAL\": 4373055, \"State Farm Market share %\": 0.1737922344905335}, {\"state\": \"Arkansas\", \"id\": 5, \"State Farm policy premiums\": 454931, \"Berkshire policy premiums\": 96908, \"STATE TOTAL\": 1777917, \"State Farm Market share %\": 0.25587864900329993}, {\"state\": \"California\", \"id\": 6, \"State Farm policy premiums\": 3655463, \"Berkshire policy premiums\": 2091720, \"STATE TOTAL\": 25255501, \"State Farm Market share %\": 0.14473927878128412}, {\"state\": \"Colorado\", \"id\": 8, \"State Farm policy premiums\": 827143, \"Berkshire policy premiums\": 365797, \"STATE TOTAL\": 4057463, \"State Farm Market share %\": 0.20385718859297053}, {\"state\": \"Connecticut\", \"id\": 9, \"State Farm policy premiums\": 169773, \"Berkshire policy premiums\": 486498, \"STATE TOTAL\": 2795415, \"State Farm Market share %\": 0.06073266402305203}, {\"state\": \"Delaware\", \"id\": 10, \"State Farm policy premiums\": 191319, \"Berkshire policy premiums\": 129033, \"STATE TOTAL\": 802005, \"State Farm Market share %\": 0.23855088185235754}, {\"state\": \"District of Columbia\", \"id\": 11, \"State Farm policy premiums\": 67231, \"Berkshire policy premiums\": 115149, \"STATE TOTAL\": 325239, \"State Farm Market share %\": 0.20671260211721226}, {\"state\": \"Florida\", \"id\": 12, \"State Farm policy premiums\": 2806322, \"Berkshire policy premiums\": 3952147, \"STATE TOTAL\": 17333354, \"State Farm Market share %\": 0.16190299926950086}, {\"state\": \"Georgia\", \"id\": 13, \"State Farm policy premiums\": 1761224, \"Berkshire policy premiums\": 821326, \"STATE TOTAL\": 7571988, \"State Farm Market share %\": 0.23259730469726048}, {\"state\": \"Hawaii\", \"id\": 15, \"State Farm policy premiums\": 133498, \"Berkshire policy premiums\": 184743, \"STATE TOTAL\": 722550, \"State Farm Market share %\": 0.18475953221230365}, {\"state\": \"Idaho\", \"id\": 16, \"State Farm policy premiums\": 130613, \"Berkshire policy premiums\": 87222, \"STATE TOTAL\": 863636, \"State Farm Market share %\": 0.15123616894154482}, {\"state\": \"Illinois\", \"id\": 17, \"State Farm policy premiums\": 2256543, \"Berkshire policy premiums\": 412978, \"STATE TOTAL\": 7028885, \"State Farm Market share %\": 0.32103854309751834}, {\"state\": \"Indiana\", \"id\": 18, \"State Farm policy premiums\": 861382, \"Berkshire policy premiums\": 201200, \"STATE TOTAL\": 3506499, \"State Farm Market share %\": 0.245653000328818}, {\"state\": \"Iowa\", \"id\": 19, \"State Farm policy premiums\": 368898, \"Berkshire policy premiums\": 58105, \"STATE TOTAL\": 1650388, \"State Farm Market share %\": 0.22352198392135667}, {\"state\": \"Kansas\", \"id\": 20, \"State Farm policy premiums\": 351343, \"Berkshire policy premiums\": 76533, \"STATE TOTAL\": 1725608, \"State Farm Market share %\": 0.20360533794465488}, {\"state\": \"Kentucky\", \"id\": 21, \"State Farm policy premiums\": 680433, \"Berkshire policy premiums\": 186915, \"STATE TOTAL\": 2805864, \"State Farm Market share %\": 0.24250391323314316}, {\"state\": \"Louisiana\", \"id\": 22, \"State Farm policy premiums\": 1415980, \"Berkshire policy premiums\": 369492, \"STATE TOTAL\": 4136224, \"State Farm Market share %\": 0.34233639183951353}, {\"state\": \"Maine\", \"id\": 23, \"State Farm policy premiums\": 101111, \"Berkshire policy premiums\": 68109, \"STATE TOTAL\": 699558, \"State Farm Market share %\": 0.1445355495898839}, {\"state\": \"Maryland\", \"id\": 24, \"State Farm policy premiums\": 883401, \"Berkshire policy premiums\": 1059508, \"STATE TOTAL\": 4554586, \"State Farm Market share %\": 0.19395857274404305}, {\"state\": \"Massachusetts\", \"id\": 25, \"State Farm policy premiums\": 0, \"Berkshire policy premiums\": 473913, \"STATE TOTAL\": 4924736, \"State Farm Market share %\": 0.0}, {\"state\": \"Michigan\", \"id\": 26, \"State Farm policy premiums\": 1580398, \"Berkshire policy premiums\": 0, \"STATE TOTAL\": 8462142, \"State Farm Market share %\": 0.18676098793898754}, {\"state\": \"Minnesota\", \"id\": 27, \"State Farm policy premiums\": 851940, \"Berkshire policy premiums\": 108942, \"STATE TOTAL\": 3412460, \"State Farm Market share %\": 0.24965567361961752}, {\"state\": \"Mississippi\", \"id\": 28, \"State Farm policy premiums\": 467887, \"Berkshire policy premiums\": 100827, \"STATE TOTAL\": 1760180, \"State Farm Market share %\": 0.2658177004624527}, {\"state\": \"Missouri\", \"id\": 29, \"State Farm policy premiums\": 883774, \"Berkshire policy premiums\": 214191, \"STATE TOTAL\": 3606590, \"State Farm Market share %\": 0.24504421073645744}, {\"state\": \"Montana\", \"id\": 30, \"State Farm policy premiums\": 156816, \"Berkshire policy premiums\": 33538, \"STATE TOTAL\": 668513, \"State Farm Market share %\": 0.23457434634778979}, {\"state\": \"Nebraska\", \"id\": 31, \"State Farm policy premiums\": 273727, \"Berkshire policy premiums\": 61046, \"STATE TOTAL\": 1167135, \"State Farm Market share %\": 0.2345289962172328}, {\"state\": \"Nevada\", \"id\": 32, \"State Farm policy premiums\": 404688, \"Berkshire policy premiums\": 262815, \"STATE TOTAL\": 2129828, \"State Farm Market share %\": 0.19000970970425782}, {\"state\": \"New Hampshire\", \"id\": 33, \"State Farm policy premiums\": 103340, \"Berkshire policy premiums\": 103403, \"STATE TOTAL\": 806545, \"State Farm Market share %\": 0.12812676292085376}, {\"state\": \"New Jersey\", \"id\": 34, \"State Farm policy premiums\": 619623, \"Berkshire policy premiums\": 1441019, \"STATE TOTAL\": 7375823, \"State Farm Market share %\": 0.08400730332059216}, {\"state\": \"New Mexico\", \"id\": 35, \"State Farm policy premiums\": 261922, \"Berkshire policy premiums\": 174865, \"STATE TOTAL\": 1284430, \"State Farm Market share %\": 0.2039208053377763}, {\"state\": \"New York\", \"id\": 36, \"State Farm policy premiums\": 1666653, \"Berkshire policy premiums\": 3926684, \"STATE TOTAL\": 12633982, \"State Farm Market share %\": 0.131918266149184}, {\"state\": \"North Carolina\", \"id\": 37, \"State Farm policy premiums\": 842368, \"Berkshire policy premiums\": 560700, \"STATE TOTAL\": 5543700, \"State Farm Market share %\": 0.15195050237206198}, {\"state\": \"North Dakota\", \"id\": 38, \"State Farm policy premiums\": 67282, \"Berkshire policy premiums\": 15516, \"STATE TOTAL\": 454376, \"State Farm Market share %\": 0.14807560258464356}, {\"state\": \"Ohio\", \"id\": 39, \"State Farm policy premiums\": 1240075, \"Berkshire policy premiums\": 405652, \"STATE TOTAL\": 6303148, \"State Farm Market share %\": 0.19673899454685181}, {\"state\": \"Oklahoma\", \"id\": 40, \"State Farm policy premiums\": 636063, \"Berkshire policy premiums\": 151388, \"STATE TOTAL\": 2515842, \"State Farm Market share %\": 0.2528231105132993}, {\"state\": \"Oregon\", \"id\": 41, \"State Farm policy premiums\": 564416, \"Berkshire policy premiums\": 223187, \"STATE TOTAL\": 2647434, \"State Farm Market share %\": 0.21319360558185776}, {\"state\": \"Pennsylvania\", \"id\": 42, \"State Farm policy premiums\": 1654528, \"Berkshire policy premiums\": 602848, \"STATE TOTAL\": 8270326, \"State Farm Market share %\": 0.20005595910004031}, {\"state\": \"Rhode Island\", \"id\": 44, \"State Farm policy premiums\": 0, \"Berkshire policy premiums\": 97597, \"STATE TOTAL\": 867558, \"State Farm Market share %\": 0.0}, {\"state\": \"South Carolina\", \"id\": 45, \"State Farm policy premiums\": 874436, \"Berkshire policy premiums\": 426033, \"STATE TOTAL\": 3583918, \"State Farm Market share %\": 0.24398884126255121}, {\"state\": \"South Dakota\", \"id\": 46, \"State Farm policy premiums\": 101912, \"Berkshire policy premiums\": 15682, \"STATE TOTAL\": 508569, \"State Farm Market share %\": 0.20038972096215066}, {\"state\": \"Tennessee\", \"id\": 47, \"State Farm policy premiums\": 889329, \"Berkshire policy premiums\": 292357, \"STATE TOTAL\": 3769652, \"State Farm Market share %\": 0.23591806352416617}, {\"state\": \"Texas\", \"id\": 48, \"State Farm policy premiums\": 3395165, \"Berkshire policy premiums\": 2127633, \"STATE TOTAL\": 19180816, \"State Farm Market share %\": 0.17700837128097158}, {\"state\": \"Utah\", \"id\": 49, \"State Farm policy premiums\": 300403, \"Berkshire policy premiums\": 139315, \"STATE TOTAL\": 1723931, \"State Farm Market share %\": 0.17425465404357832}, {\"state\": \"Vermont\", \"id\": 50, \"State Farm policy premiums\": 30003, \"Berkshire policy premiums\": 52939, \"STATE TOTAL\": 359996, \"State Farm Market share %\": 0.0833425926954744}, {\"state\": \"Virginia\", \"id\": 51, \"State Farm policy premiums\": 878312, \"Berkshire policy premiums\": 884489, \"STATE TOTAL\": 5105360, \"State Farm Market share %\": 0.17203723145870223}, {\"state\": \"Washington\", \"id\": 53, \"State Farm policy premiums\": 794882, \"Berkshire policy premiums\": 478922, \"STATE TOTAL\": 4780616, \"State Farm Market share %\": 0.16627187793372236}, {\"state\": \"West Virginia\", \"id\": 54, \"State Farm policy premiums\": 323608, \"Berkshire policy premiums\": 110806, \"STATE TOTAL\": 1209872, \"State Farm Market share %\": 0.267472922755465}, {\"state\": \"Wisconsin\", \"id\": 55, \"State Farm policy premiums\": 443680, \"Berkshire policy premiums\": 131845, \"STATE TOTAL\": 2950711, \"State Farm Market share %\": 0.15036375978535343}, {\"state\": \"Wyoming\", \"id\": 56, \"State Farm policy premiums\": 90412, \"Berkshire policy premiums\": 30187, \"STATE TOTAL\": 374169, \"State Farm Market share %\": 0.24163412789407995}, {\"state\": \"Puerto Rico\", \"id\": 72, \"State Farm policy premiums\": 0, \"Berkshire policy premiums\": 0, \"STATE TOTAL\": 444480, \"State Farm Market share %\": 0.0}]}};\n",
              "      var embedOpt = {\"mode\": \"vega-lite\"};\n",
              "\n",
              "      function showError(el, error){\n",
              "          el.innerHTML = ('<div class=\"error\" style=\"color:red;\">'\n",
              "                          + '<p>JavaScript Error: ' + error.message + '</p>'\n",
              "                          + \"<p>This usually means there's a typo in your chart specification. \"\n",
              "                          + \"See the javascript console for the full traceback.</p>\"\n",
              "                          + '</div>');\n",
              "          throw error;\n",
              "      }\n",
              "      const el = document.getElementById('altair-viz');\n",
              "      vegaEmbed(\"#altair-viz\", spec, embedOpt)\n",
              "        .catch(error => showError(el, error));\n",
              "\n",
              "  </script>\n",
              "</body>\n",
              "</html>"
            ]
          },
          "metadata": {
            "tags": []
          },
          "execution_count": 21
        }
      ]
    },
    {
      "metadata": {
        "colab_type": "text",
        "id": "7NfsPKUtlja3"
      },
      "cell_type": "markdown",
      "source": [
        "# Use Seaborn to visualize distributions and relationships with continuous and discrete variables"
      ]
    },
    {
      "metadata": {
        "colab_type": "text",
        "id": "DMX07pfHlja4"
      },
      "cell_type": "markdown",
      "source": [
        "## 1. Anscombe dataset"
      ]
    },
    {
      "metadata": {
        "colab_type": "text",
        "id": "ohuKP3Y2lja5"
      },
      "cell_type": "markdown",
      "source": [
        "### Load dataset"
      ]
    },
    {
      "metadata": {
        "colab_type": "code",
        "id": "lhNEdJTslja6",
        "colab": {}
      },
      "cell_type": "code",
      "source": [
        "df = sns.load_dataset('anscombe')"
      ],
      "execution_count": 0,
      "outputs": []
    },
    {
      "metadata": {
        "colab_type": "text",
        "id": "wGpkAGL9lja9"
      },
      "cell_type": "markdown",
      "source": [
        "### See the data's shape"
      ]
    },
    {
      "metadata": {
        "colab_type": "code",
        "id": "UJgOVrMdlja_",
        "colab": {
          "base_uri": "https://localhost:8080/",
          "height": 35
        },
        "outputId": "ff1daeb6-1db3-42c9-8d3f-80f7909f3e95"
      },
      "cell_type": "code",
      "source": [
        "df.shape"
      ],
      "execution_count": 23,
      "outputs": [
        {
          "output_type": "execute_result",
          "data": {
            "text/plain": [
              "(44, 3)"
            ]
          },
          "metadata": {
            "tags": []
          },
          "execution_count": 23
        }
      ]
    },
    {
      "metadata": {
        "colab_type": "text",
        "id": "uwhNkUorljbC"
      },
      "cell_type": "markdown",
      "source": [
        "### See the data"
      ]
    },
    {
      "metadata": {
        "colab_type": "code",
        "id": "f6VT5CbUljbD",
        "colab": {
          "base_uri": "https://localhost:8080/",
          "height": 1368
        },
        "outputId": "f901d691-595f-45da-ab4f-d52fe55eb9ca"
      },
      "cell_type": "code",
      "source": [
        "df"
      ],
      "execution_count": 25,
      "outputs": [
        {
          "output_type": "execute_result",
          "data": {
            "text/html": [
              "<div>\n",
              "<style scoped>\n",
              "    .dataframe tbody tr th:only-of-type {\n",
              "        vertical-align: middle;\n",
              "    }\n",
              "\n",
              "    .dataframe tbody tr th {\n",
              "        vertical-align: top;\n",
              "    }\n",
              "\n",
              "    .dataframe thead th {\n",
              "        text-align: right;\n",
              "    }\n",
              "</style>\n",
              "<table border=\"1\" class=\"dataframe\">\n",
              "  <thead>\n",
              "    <tr style=\"text-align: right;\">\n",
              "      <th></th>\n",
              "      <th>dataset</th>\n",
              "      <th>x</th>\n",
              "      <th>y</th>\n",
              "    </tr>\n",
              "  </thead>\n",
              "  <tbody>\n",
              "    <tr>\n",
              "      <th>0</th>\n",
              "      <td>I</td>\n",
              "      <td>10.0</td>\n",
              "      <td>8.04</td>\n",
              "    </tr>\n",
              "    <tr>\n",
              "      <th>1</th>\n",
              "      <td>I</td>\n",
              "      <td>8.0</td>\n",
              "      <td>6.95</td>\n",
              "    </tr>\n",
              "    <tr>\n",
              "      <th>2</th>\n",
              "      <td>I</td>\n",
              "      <td>13.0</td>\n",
              "      <td>7.58</td>\n",
              "    </tr>\n",
              "    <tr>\n",
              "      <th>3</th>\n",
              "      <td>I</td>\n",
              "      <td>9.0</td>\n",
              "      <td>8.81</td>\n",
              "    </tr>\n",
              "    <tr>\n",
              "      <th>4</th>\n",
              "      <td>I</td>\n",
              "      <td>11.0</td>\n",
              "      <td>8.33</td>\n",
              "    </tr>\n",
              "    <tr>\n",
              "      <th>5</th>\n",
              "      <td>I</td>\n",
              "      <td>14.0</td>\n",
              "      <td>9.96</td>\n",
              "    </tr>\n",
              "    <tr>\n",
              "      <th>6</th>\n",
              "      <td>I</td>\n",
              "      <td>6.0</td>\n",
              "      <td>7.24</td>\n",
              "    </tr>\n",
              "    <tr>\n",
              "      <th>7</th>\n",
              "      <td>I</td>\n",
              "      <td>4.0</td>\n",
              "      <td>4.26</td>\n",
              "    </tr>\n",
              "    <tr>\n",
              "      <th>8</th>\n",
              "      <td>I</td>\n",
              "      <td>12.0</td>\n",
              "      <td>10.84</td>\n",
              "    </tr>\n",
              "    <tr>\n",
              "      <th>9</th>\n",
              "      <td>I</td>\n",
              "      <td>7.0</td>\n",
              "      <td>4.82</td>\n",
              "    </tr>\n",
              "    <tr>\n",
              "      <th>10</th>\n",
              "      <td>I</td>\n",
              "      <td>5.0</td>\n",
              "      <td>5.68</td>\n",
              "    </tr>\n",
              "    <tr>\n",
              "      <th>11</th>\n",
              "      <td>II</td>\n",
              "      <td>10.0</td>\n",
              "      <td>9.14</td>\n",
              "    </tr>\n",
              "    <tr>\n",
              "      <th>12</th>\n",
              "      <td>II</td>\n",
              "      <td>8.0</td>\n",
              "      <td>8.14</td>\n",
              "    </tr>\n",
              "    <tr>\n",
              "      <th>13</th>\n",
              "      <td>II</td>\n",
              "      <td>13.0</td>\n",
              "      <td>8.74</td>\n",
              "    </tr>\n",
              "    <tr>\n",
              "      <th>14</th>\n",
              "      <td>II</td>\n",
              "      <td>9.0</td>\n",
              "      <td>8.77</td>\n",
              "    </tr>\n",
              "    <tr>\n",
              "      <th>15</th>\n",
              "      <td>II</td>\n",
              "      <td>11.0</td>\n",
              "      <td>9.26</td>\n",
              "    </tr>\n",
              "    <tr>\n",
              "      <th>16</th>\n",
              "      <td>II</td>\n",
              "      <td>14.0</td>\n",
              "      <td>8.10</td>\n",
              "    </tr>\n",
              "    <tr>\n",
              "      <th>17</th>\n",
              "      <td>II</td>\n",
              "      <td>6.0</td>\n",
              "      <td>6.13</td>\n",
              "    </tr>\n",
              "    <tr>\n",
              "      <th>18</th>\n",
              "      <td>II</td>\n",
              "      <td>4.0</td>\n",
              "      <td>3.10</td>\n",
              "    </tr>\n",
              "    <tr>\n",
              "      <th>19</th>\n",
              "      <td>II</td>\n",
              "      <td>12.0</td>\n",
              "      <td>9.13</td>\n",
              "    </tr>\n",
              "    <tr>\n",
              "      <th>20</th>\n",
              "      <td>II</td>\n",
              "      <td>7.0</td>\n",
              "      <td>7.26</td>\n",
              "    </tr>\n",
              "    <tr>\n",
              "      <th>21</th>\n",
              "      <td>II</td>\n",
              "      <td>5.0</td>\n",
              "      <td>4.74</td>\n",
              "    </tr>\n",
              "    <tr>\n",
              "      <th>22</th>\n",
              "      <td>III</td>\n",
              "      <td>10.0</td>\n",
              "      <td>7.46</td>\n",
              "    </tr>\n",
              "    <tr>\n",
              "      <th>23</th>\n",
              "      <td>III</td>\n",
              "      <td>8.0</td>\n",
              "      <td>6.77</td>\n",
              "    </tr>\n",
              "    <tr>\n",
              "      <th>24</th>\n",
              "      <td>III</td>\n",
              "      <td>13.0</td>\n",
              "      <td>12.74</td>\n",
              "    </tr>\n",
              "    <tr>\n",
              "      <th>25</th>\n",
              "      <td>III</td>\n",
              "      <td>9.0</td>\n",
              "      <td>7.11</td>\n",
              "    </tr>\n",
              "    <tr>\n",
              "      <th>26</th>\n",
              "      <td>III</td>\n",
              "      <td>11.0</td>\n",
              "      <td>7.81</td>\n",
              "    </tr>\n",
              "    <tr>\n",
              "      <th>27</th>\n",
              "      <td>III</td>\n",
              "      <td>14.0</td>\n",
              "      <td>8.84</td>\n",
              "    </tr>\n",
              "    <tr>\n",
              "      <th>28</th>\n",
              "      <td>III</td>\n",
              "      <td>6.0</td>\n",
              "      <td>6.08</td>\n",
              "    </tr>\n",
              "    <tr>\n",
              "      <th>29</th>\n",
              "      <td>III</td>\n",
              "      <td>4.0</td>\n",
              "      <td>5.39</td>\n",
              "    </tr>\n",
              "    <tr>\n",
              "      <th>30</th>\n",
              "      <td>III</td>\n",
              "      <td>12.0</td>\n",
              "      <td>8.15</td>\n",
              "    </tr>\n",
              "    <tr>\n",
              "      <th>31</th>\n",
              "      <td>III</td>\n",
              "      <td>7.0</td>\n",
              "      <td>6.42</td>\n",
              "    </tr>\n",
              "    <tr>\n",
              "      <th>32</th>\n",
              "      <td>III</td>\n",
              "      <td>5.0</td>\n",
              "      <td>5.73</td>\n",
              "    </tr>\n",
              "    <tr>\n",
              "      <th>33</th>\n",
              "      <td>IV</td>\n",
              "      <td>8.0</td>\n",
              "      <td>6.58</td>\n",
              "    </tr>\n",
              "    <tr>\n",
              "      <th>34</th>\n",
              "      <td>IV</td>\n",
              "      <td>8.0</td>\n",
              "      <td>5.76</td>\n",
              "    </tr>\n",
              "    <tr>\n",
              "      <th>35</th>\n",
              "      <td>IV</td>\n",
              "      <td>8.0</td>\n",
              "      <td>7.71</td>\n",
              "    </tr>\n",
              "    <tr>\n",
              "      <th>36</th>\n",
              "      <td>IV</td>\n",
              "      <td>8.0</td>\n",
              "      <td>8.84</td>\n",
              "    </tr>\n",
              "    <tr>\n",
              "      <th>37</th>\n",
              "      <td>IV</td>\n",
              "      <td>8.0</td>\n",
              "      <td>8.47</td>\n",
              "    </tr>\n",
              "    <tr>\n",
              "      <th>38</th>\n",
              "      <td>IV</td>\n",
              "      <td>8.0</td>\n",
              "      <td>7.04</td>\n",
              "    </tr>\n",
              "    <tr>\n",
              "      <th>39</th>\n",
              "      <td>IV</td>\n",
              "      <td>8.0</td>\n",
              "      <td>5.25</td>\n",
              "    </tr>\n",
              "    <tr>\n",
              "      <th>40</th>\n",
              "      <td>IV</td>\n",
              "      <td>19.0</td>\n",
              "      <td>12.50</td>\n",
              "    </tr>\n",
              "    <tr>\n",
              "      <th>41</th>\n",
              "      <td>IV</td>\n",
              "      <td>8.0</td>\n",
              "      <td>5.56</td>\n",
              "    </tr>\n",
              "    <tr>\n",
              "      <th>42</th>\n",
              "      <td>IV</td>\n",
              "      <td>8.0</td>\n",
              "      <td>7.91</td>\n",
              "    </tr>\n",
              "    <tr>\n",
              "      <th>43</th>\n",
              "      <td>IV</td>\n",
              "      <td>8.0</td>\n",
              "      <td>6.89</td>\n",
              "    </tr>\n",
              "  </tbody>\n",
              "</table>\n",
              "</div>"
            ],
            "text/plain": [
              "   dataset     x      y\n",
              "0        I  10.0   8.04\n",
              "1        I   8.0   6.95\n",
              "2        I  13.0   7.58\n",
              "3        I   9.0   8.81\n",
              "4        I  11.0   8.33\n",
              "5        I  14.0   9.96\n",
              "6        I   6.0   7.24\n",
              "7        I   4.0   4.26\n",
              "8        I  12.0  10.84\n",
              "9        I   7.0   4.82\n",
              "10       I   5.0   5.68\n",
              "11      II  10.0   9.14\n",
              "12      II   8.0   8.14\n",
              "13      II  13.0   8.74\n",
              "14      II   9.0   8.77\n",
              "15      II  11.0   9.26\n",
              "16      II  14.0   8.10\n",
              "17      II   6.0   6.13\n",
              "18      II   4.0   3.10\n",
              "19      II  12.0   9.13\n",
              "20      II   7.0   7.26\n",
              "21      II   5.0   4.74\n",
              "22     III  10.0   7.46\n",
              "23     III   8.0   6.77\n",
              "24     III  13.0  12.74\n",
              "25     III   9.0   7.11\n",
              "26     III  11.0   7.81\n",
              "27     III  14.0   8.84\n",
              "28     III   6.0   6.08\n",
              "29     III   4.0   5.39\n",
              "30     III  12.0   8.15\n",
              "31     III   7.0   6.42\n",
              "32     III   5.0   5.73\n",
              "33      IV   8.0   6.58\n",
              "34      IV   8.0   5.76\n",
              "35      IV   8.0   7.71\n",
              "36      IV   8.0   8.84\n",
              "37      IV   8.0   8.47\n",
              "38      IV   8.0   7.04\n",
              "39      IV   8.0   5.25\n",
              "40      IV  19.0  12.50\n",
              "41      IV   8.0   5.56\n",
              "42      IV   8.0   7.91\n",
              "43      IV   8.0   6.89"
            ]
          },
          "metadata": {
            "tags": []
          },
          "execution_count": 25
        }
      ]
    },
    {
      "metadata": {
        "colab_type": "text",
        "id": "yxMSGXfmljbE"
      },
      "cell_type": "markdown",
      "source": [
        "### [Group by](https://pandas.pydata.org/pandas-docs/stable/generated/pandas.DataFrame.groupby.html) `'dataset'`"
      ]
    },
    {
      "metadata": {
        "colab_type": "code",
        "id": "Kqb2C6OnljbG",
        "colab": {}
      },
      "cell_type": "code",
      "source": [
        "groups = df.groupby('dataset')"
      ],
      "execution_count": 0,
      "outputs": []
    },
    {
      "metadata": {
        "colab_type": "text",
        "id": "XE_VL_G5ljbI"
      },
      "cell_type": "markdown",
      "source": [
        "### [Describe](https://pandas.pydata.org/pandas-docs/stable/generated/pandas.DataFrame.describe.html) the groups"
      ]
    },
    {
      "metadata": {
        "colab_type": "code",
        "id": "3owo8EHvljbJ",
        "colab": {
          "base_uri": "https://localhost:8080/",
          "height": 228
        },
        "outputId": "3ba8591e-0b9d-4bcb-e984-1ce5cd674c96"
      },
      "cell_type": "code",
      "source": [
        "groups.describe()"
      ],
      "execution_count": 28,
      "outputs": [
        {
          "output_type": "execute_result",
          "data": {
            "text/html": [
              "<div>\n",
              "<style scoped>\n",
              "    .dataframe tbody tr th:only-of-type {\n",
              "        vertical-align: middle;\n",
              "    }\n",
              "\n",
              "    .dataframe tbody tr th {\n",
              "        vertical-align: top;\n",
              "    }\n",
              "\n",
              "    .dataframe thead tr th {\n",
              "        text-align: left;\n",
              "    }\n",
              "\n",
              "    .dataframe thead tr:last-of-type th {\n",
              "        text-align: right;\n",
              "    }\n",
              "</style>\n",
              "<table border=\"1\" class=\"dataframe\">\n",
              "  <thead>\n",
              "    <tr>\n",
              "      <th></th>\n",
              "      <th colspan=\"8\" halign=\"left\">x</th>\n",
              "      <th colspan=\"8\" halign=\"left\">y</th>\n",
              "    </tr>\n",
              "    <tr>\n",
              "      <th></th>\n",
              "      <th>count</th>\n",
              "      <th>mean</th>\n",
              "      <th>std</th>\n",
              "      <th>min</th>\n",
              "      <th>25%</th>\n",
              "      <th>50%</th>\n",
              "      <th>75%</th>\n",
              "      <th>max</th>\n",
              "      <th>count</th>\n",
              "      <th>mean</th>\n",
              "      <th>std</th>\n",
              "      <th>min</th>\n",
              "      <th>25%</th>\n",
              "      <th>50%</th>\n",
              "      <th>75%</th>\n",
              "      <th>max</th>\n",
              "    </tr>\n",
              "    <tr>\n",
              "      <th>dataset</th>\n",
              "      <th></th>\n",
              "      <th></th>\n",
              "      <th></th>\n",
              "      <th></th>\n",
              "      <th></th>\n",
              "      <th></th>\n",
              "      <th></th>\n",
              "      <th></th>\n",
              "      <th></th>\n",
              "      <th></th>\n",
              "      <th></th>\n",
              "      <th></th>\n",
              "      <th></th>\n",
              "      <th></th>\n",
              "      <th></th>\n",
              "      <th></th>\n",
              "    </tr>\n",
              "  </thead>\n",
              "  <tbody>\n",
              "    <tr>\n",
              "      <th>I</th>\n",
              "      <td>11.0</td>\n",
              "      <td>9.0</td>\n",
              "      <td>3.316625</td>\n",
              "      <td>4.0</td>\n",
              "      <td>6.5</td>\n",
              "      <td>9.0</td>\n",
              "      <td>11.5</td>\n",
              "      <td>14.0</td>\n",
              "      <td>11.0</td>\n",
              "      <td>7.500909</td>\n",
              "      <td>2.031568</td>\n",
              "      <td>4.26</td>\n",
              "      <td>6.315</td>\n",
              "      <td>7.58</td>\n",
              "      <td>8.57</td>\n",
              "      <td>10.84</td>\n",
              "    </tr>\n",
              "    <tr>\n",
              "      <th>II</th>\n",
              "      <td>11.0</td>\n",
              "      <td>9.0</td>\n",
              "      <td>3.316625</td>\n",
              "      <td>4.0</td>\n",
              "      <td>6.5</td>\n",
              "      <td>9.0</td>\n",
              "      <td>11.5</td>\n",
              "      <td>14.0</td>\n",
              "      <td>11.0</td>\n",
              "      <td>7.500909</td>\n",
              "      <td>2.031657</td>\n",
              "      <td>3.10</td>\n",
              "      <td>6.695</td>\n",
              "      <td>8.14</td>\n",
              "      <td>8.95</td>\n",
              "      <td>9.26</td>\n",
              "    </tr>\n",
              "    <tr>\n",
              "      <th>III</th>\n",
              "      <td>11.0</td>\n",
              "      <td>9.0</td>\n",
              "      <td>3.316625</td>\n",
              "      <td>4.0</td>\n",
              "      <td>6.5</td>\n",
              "      <td>9.0</td>\n",
              "      <td>11.5</td>\n",
              "      <td>14.0</td>\n",
              "      <td>11.0</td>\n",
              "      <td>7.500000</td>\n",
              "      <td>2.030424</td>\n",
              "      <td>5.39</td>\n",
              "      <td>6.250</td>\n",
              "      <td>7.11</td>\n",
              "      <td>7.98</td>\n",
              "      <td>12.74</td>\n",
              "    </tr>\n",
              "    <tr>\n",
              "      <th>IV</th>\n",
              "      <td>11.0</td>\n",
              "      <td>9.0</td>\n",
              "      <td>3.316625</td>\n",
              "      <td>8.0</td>\n",
              "      <td>8.0</td>\n",
              "      <td>8.0</td>\n",
              "      <td>8.0</td>\n",
              "      <td>19.0</td>\n",
              "      <td>11.0</td>\n",
              "      <td>7.500909</td>\n",
              "      <td>2.030579</td>\n",
              "      <td>5.25</td>\n",
              "      <td>6.170</td>\n",
              "      <td>7.04</td>\n",
              "      <td>8.19</td>\n",
              "      <td>12.50</td>\n",
              "    </tr>\n",
              "  </tbody>\n",
              "</table>\n",
              "</div>"
            ],
            "text/plain": [
              "            x                                               y            \\\n",
              "        count mean       std  min  25%  50%   75%   max count      mean   \n",
              "dataset                                                                   \n",
              "I        11.0  9.0  3.316625  4.0  6.5  9.0  11.5  14.0  11.0  7.500909   \n",
              "II       11.0  9.0  3.316625  4.0  6.5  9.0  11.5  14.0  11.0  7.500909   \n",
              "III      11.0  9.0  3.316625  4.0  6.5  9.0  11.5  14.0  11.0  7.500000   \n",
              "IV       11.0  9.0  3.316625  8.0  8.0  8.0   8.0  19.0  11.0  7.500909   \n",
              "\n",
              "                                                   \n",
              "              std   min    25%   50%   75%    max  \n",
              "dataset                                            \n",
              "I        2.031568  4.26  6.315  7.58  8.57  10.84  \n",
              "II       2.031657  3.10  6.695  8.14  8.95   9.26  \n",
              "III      2.030424  5.39  6.250  7.11  7.98  12.74  \n",
              "IV       2.030579  5.25  6.170  7.04  8.19  12.50  "
            ]
          },
          "metadata": {
            "tags": []
          },
          "execution_count": 28
        }
      ]
    },
    {
      "metadata": {
        "colab_type": "text",
        "id": "VBjKXp0rljbK"
      },
      "cell_type": "markdown",
      "source": [
        "### Get the [count](https://pandas.pydata.org/pandas-docs/stable/generated/pandas.DataFrame.count.html), for each column in each group"
      ]
    },
    {
      "metadata": {
        "colab_type": "code",
        "id": "4ruK188dljbL",
        "colab": {
          "base_uri": "https://localhost:8080/",
          "height": 198
        },
        "outputId": "07435405-eeea-43f1-b846-ada6b6a4ad21"
      },
      "cell_type": "code",
      "source": [
        "groups.count()"
      ],
      "execution_count": 29,
      "outputs": [
        {
          "output_type": "execute_result",
          "data": {
            "text/html": [
              "<div>\n",
              "<style scoped>\n",
              "    .dataframe tbody tr th:only-of-type {\n",
              "        vertical-align: middle;\n",
              "    }\n",
              "\n",
              "    .dataframe tbody tr th {\n",
              "        vertical-align: top;\n",
              "    }\n",
              "\n",
              "    .dataframe thead th {\n",
              "        text-align: right;\n",
              "    }\n",
              "</style>\n",
              "<table border=\"1\" class=\"dataframe\">\n",
              "  <thead>\n",
              "    <tr style=\"text-align: right;\">\n",
              "      <th></th>\n",
              "      <th>x</th>\n",
              "      <th>y</th>\n",
              "    </tr>\n",
              "    <tr>\n",
              "      <th>dataset</th>\n",
              "      <th></th>\n",
              "      <th></th>\n",
              "    </tr>\n",
              "  </thead>\n",
              "  <tbody>\n",
              "    <tr>\n",
              "      <th>I</th>\n",
              "      <td>11</td>\n",
              "      <td>11</td>\n",
              "    </tr>\n",
              "    <tr>\n",
              "      <th>II</th>\n",
              "      <td>11</td>\n",
              "      <td>11</td>\n",
              "    </tr>\n",
              "    <tr>\n",
              "      <th>III</th>\n",
              "      <td>11</td>\n",
              "      <td>11</td>\n",
              "    </tr>\n",
              "    <tr>\n",
              "      <th>IV</th>\n",
              "      <td>11</td>\n",
              "      <td>11</td>\n",
              "    </tr>\n",
              "  </tbody>\n",
              "</table>\n",
              "</div>"
            ],
            "text/plain": [
              "          x   y\n",
              "dataset        \n",
              "I        11  11\n",
              "II       11  11\n",
              "III      11  11\n",
              "IV       11  11"
            ]
          },
          "metadata": {
            "tags": []
          },
          "execution_count": 29
        }
      ]
    },
    {
      "metadata": {
        "colab_type": "text",
        "id": "Ooh4iR8gljbN"
      },
      "cell_type": "markdown",
      "source": [
        "### Get the [mean](https://pandas.pydata.org/pandas-docs/stable/generated/pandas.DataFrame.mean.html) ..."
      ]
    },
    {
      "metadata": {
        "colab_type": "code",
        "id": "VHz1_kJNljbN",
        "colab": {
          "base_uri": "https://localhost:8080/",
          "height": 198
        },
        "outputId": "0cbd6931-51ca-4725-80e2-840e39633bbf"
      },
      "cell_type": "code",
      "source": [
        "groups.mean()"
      ],
      "execution_count": 30,
      "outputs": [
        {
          "output_type": "execute_result",
          "data": {
            "text/html": [
              "<div>\n",
              "<style scoped>\n",
              "    .dataframe tbody tr th:only-of-type {\n",
              "        vertical-align: middle;\n",
              "    }\n",
              "\n",
              "    .dataframe tbody tr th {\n",
              "        vertical-align: top;\n",
              "    }\n",
              "\n",
              "    .dataframe thead th {\n",
              "        text-align: right;\n",
              "    }\n",
              "</style>\n",
              "<table border=\"1\" class=\"dataframe\">\n",
              "  <thead>\n",
              "    <tr style=\"text-align: right;\">\n",
              "      <th></th>\n",
              "      <th>x</th>\n",
              "      <th>y</th>\n",
              "    </tr>\n",
              "    <tr>\n",
              "      <th>dataset</th>\n",
              "      <th></th>\n",
              "      <th></th>\n",
              "    </tr>\n",
              "  </thead>\n",
              "  <tbody>\n",
              "    <tr>\n",
              "      <th>I</th>\n",
              "      <td>9.0</td>\n",
              "      <td>7.500909</td>\n",
              "    </tr>\n",
              "    <tr>\n",
              "      <th>II</th>\n",
              "      <td>9.0</td>\n",
              "      <td>7.500909</td>\n",
              "    </tr>\n",
              "    <tr>\n",
              "      <th>III</th>\n",
              "      <td>9.0</td>\n",
              "      <td>7.500000</td>\n",
              "    </tr>\n",
              "    <tr>\n",
              "      <th>IV</th>\n",
              "      <td>9.0</td>\n",
              "      <td>7.500909</td>\n",
              "    </tr>\n",
              "  </tbody>\n",
              "</table>\n",
              "</div>"
            ],
            "text/plain": [
              "           x         y\n",
              "dataset               \n",
              "I        9.0  7.500909\n",
              "II       9.0  7.500909\n",
              "III      9.0  7.500000\n",
              "IV       9.0  7.500909"
            ]
          },
          "metadata": {
            "tags": []
          },
          "execution_count": 30
        }
      ]
    },
    {
      "metadata": {
        "colab_type": "text",
        "id": "KDpAl2z8ljbQ"
      },
      "cell_type": "markdown",
      "source": [
        "### Get the [standard deviation](https://pandas.pydata.org/pandas-docs/stable/generated/pandas.DataFrame.std.html) ..."
      ]
    },
    {
      "metadata": {
        "colab_type": "code",
        "id": "H8sPCA70ljbQ",
        "colab": {
          "base_uri": "https://localhost:8080/",
          "height": 198
        },
        "outputId": "0940ba10-9ab7-4298-99c7-32e99af55d23"
      },
      "cell_type": "code",
      "source": [
        "groups.std()"
      ],
      "execution_count": 31,
      "outputs": [
        {
          "output_type": "execute_result",
          "data": {
            "text/html": [
              "<div>\n",
              "<style scoped>\n",
              "    .dataframe tbody tr th:only-of-type {\n",
              "        vertical-align: middle;\n",
              "    }\n",
              "\n",
              "    .dataframe tbody tr th {\n",
              "        vertical-align: top;\n",
              "    }\n",
              "\n",
              "    .dataframe thead th {\n",
              "        text-align: right;\n",
              "    }\n",
              "</style>\n",
              "<table border=\"1\" class=\"dataframe\">\n",
              "  <thead>\n",
              "    <tr style=\"text-align: right;\">\n",
              "      <th></th>\n",
              "      <th>x</th>\n",
              "      <th>y</th>\n",
              "    </tr>\n",
              "    <tr>\n",
              "      <th>dataset</th>\n",
              "      <th></th>\n",
              "      <th></th>\n",
              "    </tr>\n",
              "  </thead>\n",
              "  <tbody>\n",
              "    <tr>\n",
              "      <th>I</th>\n",
              "      <td>3.316625</td>\n",
              "      <td>2.031568</td>\n",
              "    </tr>\n",
              "    <tr>\n",
              "      <th>II</th>\n",
              "      <td>3.316625</td>\n",
              "      <td>2.031657</td>\n",
              "    </tr>\n",
              "    <tr>\n",
              "      <th>III</th>\n",
              "      <td>3.316625</td>\n",
              "      <td>2.030424</td>\n",
              "    </tr>\n",
              "    <tr>\n",
              "      <th>IV</th>\n",
              "      <td>3.316625</td>\n",
              "      <td>2.030579</td>\n",
              "    </tr>\n",
              "  </tbody>\n",
              "</table>\n",
              "</div>"
            ],
            "text/plain": [
              "                x         y\n",
              "dataset                    \n",
              "I        3.316625  2.031568\n",
              "II       3.316625  2.031657\n",
              "III      3.316625  2.030424\n",
              "IV       3.316625  2.030579"
            ]
          },
          "metadata": {
            "tags": []
          },
          "execution_count": 31
        }
      ]
    },
    {
      "metadata": {
        "colab_type": "text",
        "id": "8_J0sQ3zljbS"
      },
      "cell_type": "markdown",
      "source": [
        "### Get the [correlation](https://pandas.pydata.org/pandas-docs/stable/generated/pandas.DataFrame.corr.html) ..."
      ]
    },
    {
      "metadata": {
        "colab_type": "code",
        "id": "oVaXOEutljbS",
        "colab": {
          "base_uri": "https://localhost:8080/",
          "height": 318
        },
        "outputId": "4dc910ba-f504-41ad-d4a2-8112fd2c1876"
      },
      "cell_type": "code",
      "source": [
        "groups.corr()"
      ],
      "execution_count": 33,
      "outputs": [
        {
          "output_type": "execute_result",
          "data": {
            "text/html": [
              "<div>\n",
              "<style scoped>\n",
              "    .dataframe tbody tr th:only-of-type {\n",
              "        vertical-align: middle;\n",
              "    }\n",
              "\n",
              "    .dataframe tbody tr th {\n",
              "        vertical-align: top;\n",
              "    }\n",
              "\n",
              "    .dataframe thead th {\n",
              "        text-align: right;\n",
              "    }\n",
              "</style>\n",
              "<table border=\"1\" class=\"dataframe\">\n",
              "  <thead>\n",
              "    <tr style=\"text-align: right;\">\n",
              "      <th></th>\n",
              "      <th></th>\n",
              "      <th>x</th>\n",
              "      <th>y</th>\n",
              "    </tr>\n",
              "    <tr>\n",
              "      <th>dataset</th>\n",
              "      <th></th>\n",
              "      <th></th>\n",
              "      <th></th>\n",
              "    </tr>\n",
              "  </thead>\n",
              "  <tbody>\n",
              "    <tr>\n",
              "      <th rowspan=\"2\" valign=\"top\">I</th>\n",
              "      <th>x</th>\n",
              "      <td>1.000000</td>\n",
              "      <td>0.816421</td>\n",
              "    </tr>\n",
              "    <tr>\n",
              "      <th>y</th>\n",
              "      <td>0.816421</td>\n",
              "      <td>1.000000</td>\n",
              "    </tr>\n",
              "    <tr>\n",
              "      <th rowspan=\"2\" valign=\"top\">II</th>\n",
              "      <th>x</th>\n",
              "      <td>1.000000</td>\n",
              "      <td>0.816237</td>\n",
              "    </tr>\n",
              "    <tr>\n",
              "      <th>y</th>\n",
              "      <td>0.816237</td>\n",
              "      <td>1.000000</td>\n",
              "    </tr>\n",
              "    <tr>\n",
              "      <th rowspan=\"2\" valign=\"top\">III</th>\n",
              "      <th>x</th>\n",
              "      <td>1.000000</td>\n",
              "      <td>0.816287</td>\n",
              "    </tr>\n",
              "    <tr>\n",
              "      <th>y</th>\n",
              "      <td>0.816287</td>\n",
              "      <td>1.000000</td>\n",
              "    </tr>\n",
              "    <tr>\n",
              "      <th rowspan=\"2\" valign=\"top\">IV</th>\n",
              "      <th>x</th>\n",
              "      <td>1.000000</td>\n",
              "      <td>0.816521</td>\n",
              "    </tr>\n",
              "    <tr>\n",
              "      <th>y</th>\n",
              "      <td>0.816521</td>\n",
              "      <td>1.000000</td>\n",
              "    </tr>\n",
              "  </tbody>\n",
              "</table>\n",
              "</div>"
            ],
            "text/plain": [
              "                  x         y\n",
              "dataset                      \n",
              "I       x  1.000000  0.816421\n",
              "        y  0.816421  1.000000\n",
              "II      x  1.000000  0.816237\n",
              "        y  0.816237  1.000000\n",
              "III     x  1.000000  0.816287\n",
              "        y  0.816287  1.000000\n",
              "IV      x  1.000000  0.816521\n",
              "        y  0.816521  1.000000"
            ]
          },
          "metadata": {
            "tags": []
          },
          "execution_count": 33
        }
      ]
    },
    {
      "metadata": {
        "colab_type": "text",
        "id": "wev2eLSsljbU"
      },
      "cell_type": "markdown",
      "source": [
        "### Use pandas to [plot](https://pandas.pydata.org/pandas-docs/stable/generated/pandas.DataFrame.plot.html) the groups, as scatter plots"
      ]
    },
    {
      "metadata": {
        "colab_type": "code",
        "id": "OV8_BNakljbV",
        "colab": {
          "base_uri": "https://localhost:8080/",
          "height": 1349
        },
        "outputId": "0341078a-4a4b-4e5f-d788-16e87c6503e9"
      },
      "cell_type": "code",
      "source": [
        "groups.plot.scatter('x', 'y');"
      ],
      "execution_count": 40,
      "outputs": [
        {
          "output_type": "display_data",
          "data": {
            "image/png": "[encoded data removed]",
            "text/plain": [
              "<Figure size 432x288 with 1 Axes>"
            ]
          },
          "metadata": {
            "tags": []
          }
        },
        {
          "output_type": "display_data",
          "data": {
            "image/png": "[encoded data removed]",
            "text/plain": [
              "<Figure size 432x288 with 1 Axes>"
            ]
          },
          "metadata": {
            "tags": []
          }
        },
        {
          "output_type": "display_data",
          "data": {
            "image/png": "[encoded data removed]",
            "text/plain": [
              "<Figure size 432x288 with 1 Axes>"
            ]
          },
          "metadata": {
            "tags": []
          }
        },
        {
          "output_type": "display_data",
          "data": {
            "image/png": "[encoded data removed]",
            "text/plain": [
              "<Figure size 432x288 with 1 Axes>"
            ]
          },
          "metadata": {
            "tags": []
          }
        },
        {
          "output_type": "display_data",
          "data": {
            "image/png": "[encoded data removed]",
            "text/plain": [
              "<Figure size 432x288 with 1 Axes>"
            ]
          },
          "metadata": {
            "tags": []
          }
        }
      ]
    },
    {
      "metadata": {
        "colab_type": "text",
        "id": "aIZK7t3QljbX"
      },
      "cell_type": "markdown",
      "source": [
        "### Use Seaborn to make [relational plots](http://seaborn.pydata.org/generated/seaborn.relplot.html)"
      ]
    },
    {
      "metadata": {
        "colab_type": "code",
        "id": "VYwZwT85tggM",
        "colab": {
          "base_uri": "https://localhost:8080/",
          "height": 747
        },
        "outputId": "275a6abb-7364-4b43-f71c-1c1aa019310b"
      },
      "cell_type": "code",
      "source": [
        "sns.relplot('x', 'y', col= 'dataset', data=df, col_wrap=2)"
      ],
      "execution_count": 53,
      "outputs": [
        {
          "output_type": "execute_result",
          "data": {
            "text/plain": [
              "<seaborn.axisgrid.FacetGrid at 0x7f00a2973128>"
            ]
          },
          "metadata": {
            "tags": []
          },
          "execution_count": 53
        },
        {
          "output_type": "display_data",
          "data": {
            "image/png": "[encoded data removed]",
            "text/plain": [
              "<Figure size 720x720 with 4 Axes>"
            ]
          },
          "metadata": {
            "tags": []
          }
        }
      ]
    },
    {
      "metadata": {
        "colab_type": "text",
        "id": "7pC0xmYRljbZ"
      },
      "cell_type": "markdown",
      "source": [
        "### Use Seaborn to make [linear model plots](http://seaborn.pydata.org/generated/seaborn.lmplot.html)"
      ]
    },
    {
      "metadata": {
        "colab_type": "code",
        "id": "q0OUr1XytwG9",
        "colab": {
          "base_uri": "https://localhost:8080/",
          "height": 747
        },
        "outputId": "8baa2701-ebac-43c3-fc14-a196d3775c8c"
      },
      "cell_type": "code",
      "source": [
        "sns.lmplot('x', 'y', col='dataset', hue='dataset', data=df, col_wrap=2)"
      ],
      "execution_count": 51,
      "outputs": [
        {
          "output_type": "execute_result",
          "data": {
            "text/plain": [
              "<seaborn.axisgrid.FacetGrid at 0x7f00a2f99710>"
            ]
          },
          "metadata": {
            "tags": []
          },
          "execution_count": 51
        },
        {
          "output_type": "display_data",
          "data": {
            "image/png": "[encoded data removed]",
            "text/plain": [
              "<Figure size 720x720 with 4 Axes>"
            ]
          },
          "metadata": {
            "tags": []
          }
        }
      ]
    },
    {
      "metadata": {
        "colab_type": "text",
        "id": "Cn-xMBPcljbc"
      },
      "cell_type": "markdown",
      "source": [
        "#### Links\n",
        "- [Seaborn examples: Anscombe's quartet](http://seaborn.pydata.org/examples/anscombes_quartet.html)\n",
        "- [Wikipedia: Anscombe's quartet](https://en.wikipedia.org/wiki/Anscombe%27s_quartet)\n",
        "- [The Datasaurus Dozen](https://www.autodeskresearch.com/publications/samestats)"
      ]
    },
    {
      "metadata": {
        "colab_type": "text",
        "id": "5vhSX9VJljbc"
      },
      "cell_type": "markdown",
      "source": [
        "## 2. Tips dataset"
      ]
    },
    {
      "metadata": {
        "colab_type": "text",
        "id": "tZrTgYtoljbc"
      },
      "cell_type": "markdown",
      "source": [
        "### Load dataset"
      ]
    },
    {
      "metadata": {
        "colab_type": "code",
        "id": "Ms3dbDMRljbd",
        "colab": {}
      },
      "cell_type": "code",
      "source": [
        "tips = sns.load_dataset('tips')"
      ],
      "execution_count": 0,
      "outputs": []
    },
    {
      "metadata": {
        "colab_type": "text",
        "id": "YsR7xrSVljbe"
      },
      "cell_type": "markdown",
      "source": [
        "### See the data's shape"
      ]
    },
    {
      "metadata": {
        "colab_type": "code",
        "id": "vkd17Tv7ljbf",
        "colab": {
          "base_uri": "https://localhost:8080/",
          "height": 35
        },
        "outputId": "6d3eaf8a-a43a-43d7-89ba-27482502561d"
      },
      "cell_type": "code",
      "source": [
        "tips.shape"
      ],
      "execution_count": 42,
      "outputs": [
        {
          "output_type": "execute_result",
          "data": {
            "text/plain": [
              "(244, 7)"
            ]
          },
          "metadata": {
            "tags": []
          },
          "execution_count": 42
        }
      ]
    },
    {
      "metadata": {
        "colab_type": "text",
        "id": "gRlUBLZEljbg"
      },
      "cell_type": "markdown",
      "source": [
        "### See the first 5 rows"
      ]
    },
    {
      "metadata": {
        "colab_type": "code",
        "id": "tSi2F9ZHljbg",
        "colab": {
          "base_uri": "https://localhost:8080/",
          "height": 198
        },
        "outputId": "40b71c03-4dc6-49d3-8efd-dd49a54ee754"
      },
      "cell_type": "code",
      "source": [
        "tips.head()"
      ],
      "execution_count": 57,
      "outputs": [
        {
          "output_type": "execute_result",
          "data": {
            "text/html": [
              "<div>\n",
              "<style scoped>\n",
              "    .dataframe tbody tr th:only-of-type {\n",
              "        vertical-align: middle;\n",
              "    }\n",
              "\n",
              "    .dataframe tbody tr th {\n",
              "        vertical-align: top;\n",
              "    }\n",
              "\n",
              "    .dataframe thead th {\n",
              "        text-align: right;\n",
              "    }\n",
              "</style>\n",
              "<table border=\"1\" class=\"dataframe\">\n",
              "  <thead>\n",
              "    <tr style=\"text-align: right;\">\n",
              "      <th></th>\n",
              "      <th>total_bill</th>\n",
              "      <th>tip</th>\n",
              "      <th>sex</th>\n",
              "      <th>smoker</th>\n",
              "      <th>day</th>\n",
              "      <th>time</th>\n",
              "      <th>size</th>\n",
              "    </tr>\n",
              "  </thead>\n",
              "  <tbody>\n",
              "    <tr>\n",
              "      <th>0</th>\n",
              "      <td>16.99</td>\n",
              "      <td>1.01</td>\n",
              "      <td>Female</td>\n",
              "      <td>0</td>\n",
              "      <td>Sun</td>\n",
              "      <td>Dinner</td>\n",
              "      <td>2</td>\n",
              "    </tr>\n",
              "    <tr>\n",
              "      <th>1</th>\n",
              "      <td>10.34</td>\n",
              "      <td>1.66</td>\n",
              "      <td>Male</td>\n",
              "      <td>0</td>\n",
              "      <td>Sun</td>\n",
              "      <td>Dinner</td>\n",
              "      <td>3</td>\n",
              "    </tr>\n",
              "    <tr>\n",
              "      <th>2</th>\n",
              "      <td>21.01</td>\n",
              "      <td>3.50</td>\n",
              "      <td>Male</td>\n",
              "      <td>0</td>\n",
              "      <td>Sun</td>\n",
              "      <td>Dinner</td>\n",
              "      <td>3</td>\n",
              "    </tr>\n",
              "    <tr>\n",
              "      <th>3</th>\n",
              "      <td>23.68</td>\n",
              "      <td>3.31</td>\n",
              "      <td>Male</td>\n",
              "      <td>0</td>\n",
              "      <td>Sun</td>\n",
              "      <td>Dinner</td>\n",
              "      <td>2</td>\n",
              "    </tr>\n",
              "    <tr>\n",
              "      <th>4</th>\n",
              "      <td>24.59</td>\n",
              "      <td>3.61</td>\n",
              "      <td>Female</td>\n",
              "      <td>0</td>\n",
              "      <td>Sun</td>\n",
              "      <td>Dinner</td>\n",
              "      <td>4</td>\n",
              "    </tr>\n",
              "  </tbody>\n",
              "</table>\n",
              "</div>"
            ],
            "text/plain": [
              "   total_bill   tip     sex  smoker  day    time  size\n",
              "0       16.99  1.01  Female       0  Sun  Dinner     2\n",
              "1       10.34  1.66    Male       0  Sun  Dinner     3\n",
              "2       21.01  3.50    Male       0  Sun  Dinner     3\n",
              "3       23.68  3.31    Male       0  Sun  Dinner     2\n",
              "4       24.59  3.61  Female       0  Sun  Dinner     4"
            ]
          },
          "metadata": {
            "tags": []
          },
          "execution_count": 57
        }
      ]
    },
    {
      "metadata": {
        "id": "k6L2QKC0HLEx",
        "colab_type": "code",
        "colab": {}
      },
      "cell_type": "code",
      "source": [
        "#convert smoker to bool:\n",
        "\n",
        "tips['smoker'] = tips['smoker'].replace({'Yes': 1, 'No': 0})"
      ],
      "execution_count": 0,
      "outputs": []
    },
    {
      "metadata": {
        "colab_type": "text",
        "id": "sdGGrpdsljbi"
      },
      "cell_type": "markdown",
      "source": [
        "### Describe the data"
      ]
    },
    {
      "metadata": {
        "colab_type": "code",
        "id": "NvwPj20Qljbi",
        "colab": {
          "base_uri": "https://localhost:8080/",
          "height": 288
        },
        "outputId": "300b18bb-45c1-4847-aede-186a0e7d536e"
      },
      "cell_type": "code",
      "source": [
        "tips.describe()"
      ],
      "execution_count": 58,
      "outputs": [
        {
          "output_type": "execute_result",
          "data": {
            "text/html": [
              "<div>\n",
              "<style scoped>\n",
              "    .dataframe tbody tr th:only-of-type {\n",
              "        vertical-align: middle;\n",
              "    }\n",
              "\n",
              "    .dataframe tbody tr th {\n",
              "        vertical-align: top;\n",
              "    }\n",
              "\n",
              "    .dataframe thead th {\n",
              "        text-align: right;\n",
              "    }\n",
              "</style>\n",
              "<table border=\"1\" class=\"dataframe\">\n",
              "  <thead>\n",
              "    <tr style=\"text-align: right;\">\n",
              "      <th></th>\n",
              "      <th>total_bill</th>\n",
              "      <th>tip</th>\n",
              "      <th>smoker</th>\n",
              "      <th>size</th>\n",
              "    </tr>\n",
              "  </thead>\n",
              "  <tbody>\n",
              "    <tr>\n",
              "      <th>count</th>\n",
              "      <td>244.000000</td>\n",
              "      <td>244.000000</td>\n",
              "      <td>244.000000</td>\n",
              "      <td>244.000000</td>\n",
              "    </tr>\n",
              "    <tr>\n",
              "      <th>mean</th>\n",
              "      <td>19.785943</td>\n",
              "      <td>2.998279</td>\n",
              "      <td>0.381148</td>\n",
              "      <td>2.569672</td>\n",
              "    </tr>\n",
              "    <tr>\n",
              "      <th>std</th>\n",
              "      <td>8.902412</td>\n",
              "      <td>1.383638</td>\n",
              "      <td>0.486667</td>\n",
              "      <td>0.951100</td>\n",
              "    </tr>\n",
              "    <tr>\n",
              "      <th>min</th>\n",
              "      <td>3.070000</td>\n",
              "      <td>1.000000</td>\n",
              "      <td>0.000000</td>\n",
              "      <td>1.000000</td>\n",
              "    </tr>\n",
              "    <tr>\n",
              "      <th>25%</th>\n",
              "      <td>13.347500</td>\n",
              "      <td>2.000000</td>\n",
              "      <td>0.000000</td>\n",
              "      <td>2.000000</td>\n",
              "    </tr>\n",
              "    <tr>\n",
              "      <th>50%</th>\n",
              "      <td>17.795000</td>\n",
              "      <td>2.900000</td>\n",
              "      <td>0.000000</td>\n",
              "      <td>2.000000</td>\n",
              "    </tr>\n",
              "    <tr>\n",
              "      <th>75%</th>\n",
              "      <td>24.127500</td>\n",
              "      <td>3.562500</td>\n",
              "      <td>1.000000</td>\n",
              "      <td>3.000000</td>\n",
              "    </tr>\n",
              "    <tr>\n",
              "      <th>max</th>\n",
              "      <td>50.810000</td>\n",
              "      <td>10.000000</td>\n",
              "      <td>1.000000</td>\n",
              "      <td>6.000000</td>\n",
              "    </tr>\n",
              "  </tbody>\n",
              "</table>\n",
              "</div>"
            ],
            "text/plain": [
              "       total_bill         tip      smoker        size\n",
              "count  244.000000  244.000000  244.000000  244.000000\n",
              "mean    19.785943    2.998279    0.381148    2.569672\n",
              "std      8.902412    1.383638    0.486667    0.951100\n",
              "min      3.070000    1.000000    0.000000    1.000000\n",
              "25%     13.347500    2.000000    0.000000    2.000000\n",
              "50%     17.795000    2.900000    0.000000    2.000000\n",
              "75%     24.127500    3.562500    1.000000    3.000000\n",
              "max     50.810000   10.000000    1.000000    6.000000"
            ]
          },
          "metadata": {
            "tags": []
          },
          "execution_count": 58
        }
      ]
    },
    {
      "metadata": {
        "colab_type": "text",
        "id": "TDoUKNB4ljbk"
      },
      "cell_type": "markdown",
      "source": [
        "### Make univariate [distribution plots](https://seaborn.pydata.org/generated/seaborn.distplot.html)"
      ]
    },
    {
      "metadata": {
        "colab_type": "code",
        "id": "GL7qCnO1PRbM",
        "colab": {
          "base_uri": "https://localhost:8080/",
          "height": 302
        },
        "outputId": "af1d5a93-47e7-4323-d93d-d83ac91853eb"
      },
      "cell_type": "code",
      "source": [
        "sns.distplot(tips.tip)"
      ],
      "execution_count": 59,
      "outputs": [
        {
          "output_type": "execute_result",
          "data": {
            "text/plain": [
              "<matplotlib.axes._subplots.AxesSubplot at 0x7f00a26ea128>"
            ]
          },
          "metadata": {
            "tags": []
          },
          "execution_count": 59
        },
        {
          "output_type": "display_data",
          "data": {
            "image/png": "[encoded data removed]",
            "text/plain": [
              "<Figure size 432x288 with 1 Axes>"
            ]
          },
          "metadata": {
            "tags": []
          }
        }
      ]
    },
    {
      "metadata": {
        "id": "X-16tlL2Ia1c",
        "colab_type": "code",
        "colab": {
          "base_uri": "https://localhost:8080/",
          "height": 303
        },
        "outputId": "15b6a18f-1689-4e6d-add4-21dc50955a22"
      },
      "cell_type": "code",
      "source": [
        "sns.distplot(tips.total_bill)"
      ],
      "execution_count": 60,
      "outputs": [
        {
          "output_type": "execute_result",
          "data": {
            "text/plain": [
              "<matplotlib.axes._subplots.AxesSubplot at 0x7f00a281ec18>"
            ]
          },
          "metadata": {
            "tags": []
          },
          "execution_count": 60
        },
        {
          "output_type": "display_data",
          "data": {
            "image/png": "[encoded data removed]",
            "text/plain": [
              "<Figure size 432x288 with 1 Axes>"
            ]
          },
          "metadata": {
            "tags": []
          }
        }
      ]
    },
    {
      "metadata": {
        "id": "4xymh5YQJMsX",
        "colab_type": "code",
        "colab": {
          "base_uri": "https://localhost:8080/",
          "height": 302
        },
        "outputId": "ca6b3f15-dfdb-42d9-bc78-63320f999cdc"
      },
      "cell_type": "code",
      "source": [
        "tips['percent'] = tips.tip/tips.total_bill\n",
        "sns.distplot(tips.percent)"
      ],
      "execution_count": 65,
      "outputs": [
        {
          "output_type": "execute_result",
          "data": {
            "text/plain": [
              "<matplotlib.axes._subplots.AxesSubplot at 0x7f00a2a20b00>"
            ]
          },
          "metadata": {
            "tags": []
          },
          "execution_count": 65
        },
        {
          "output_type": "display_data",
          "data": {
            "image/png": "[encoded data removed]",
            "text/plain": [
              "<Figure size 432x288 with 1 Axes>"
            ]
          },
          "metadata": {
            "tags": []
          }
        }
      ]
    },
    {
      "metadata": {
        "colab_type": "text",
        "id": "0N-6Munnljbm"
      },
      "cell_type": "markdown",
      "source": [
        "### Make bivariate [relational plots](https://seaborn.pydata.org/generated/seaborn.relplot.html)"
      ]
    },
    {
      "metadata": {
        "colab_type": "code",
        "id": "AVWSHwa9PT1y",
        "colab": {
          "base_uri": "https://localhost:8080/",
          "height": 387
        },
        "outputId": "5b3526d8-d2b8-4e02-beab-008c86132fff"
      },
      "cell_type": "code",
      "source": [
        "sns.relplot('total_bill', 'tip', data=tips, alpha=0.5)"
      ],
      "execution_count": 71,
      "outputs": [
        {
          "output_type": "execute_result",
          "data": {
            "text/plain": [
              "<seaborn.axisgrid.FacetGrid at 0x7f00a2f81c88>"
            ]
          },
          "metadata": {
            "tags": []
          },
          "execution_count": 71
        },
        {
          "output_type": "display_data",
          "data": {
            "image/png": "[encoded data removed]",
            "text/plain": [
              "<Figure size 360x360 with 1 Axes>"
            ]
          },
          "metadata": {
            "tags": []
          }
        }
      ]
    },
    {
      "metadata": {
        "id": "JFYWMzP8LfAM",
        "colab_type": "code",
        "colab": {
          "base_uri": "https://localhost:8080/",
          "height": 387
        },
        "outputId": "b9e2fc10-48b5-4581-b8e7-95768ba7d272"
      },
      "cell_type": "code",
      "source": [
        "sns.relplot('total_bill', 'percent', data=tips, alpha=0.5)"
      ],
      "execution_count": 72,
      "outputs": [
        {
          "output_type": "execute_result",
          "data": {
            "text/plain": [
              "<seaborn.axisgrid.FacetGrid at 0x7f00a23f2208>"
            ]
          },
          "metadata": {
            "tags": []
          },
          "execution_count": 72
        },
        {
          "output_type": "display_data",
          "data": {
            "image/png": "[encoded data removed]",
            "text/plain": [
              "<Figure size 360x360 with 1 Axes>"
            ]
          },
          "metadata": {
            "tags": []
          }
        }
      ]
    },
    {
      "metadata": {
        "colab_type": "text",
        "id": "7Ug5vyBlljbp"
      },
      "cell_type": "markdown",
      "source": [
        "### Make univariate [categorical plots](https://seaborn.pydata.org/generated/seaborn.catplot.html)"
      ]
    },
    {
      "metadata": {
        "colab_type": "code",
        "id": "0FdkIBUjPWLg",
        "colab": {
          "base_uri": "https://localhost:8080/",
          "height": 314
        },
        "outputId": "2b733855-b4b3-4c8d-dec8-2638e8dc4b34"
      },
      "cell_type": "code",
      "source": [
        "tips.sex.value_counts().plot.bar()"
      ],
      "execution_count": 73,
      "outputs": [
        {
          "output_type": "execute_result",
          "data": {
            "text/plain": [
              "<matplotlib.axes._subplots.AxesSubplot at 0x7f00a2392c50>"
            ]
          },
          "metadata": {
            "tags": []
          },
          "execution_count": 73
        },
        {
          "output_type": "display_data",
          "data": {
            "image/png": "[encoded data removed]",
            "text/plain": [
              "<Figure size 432x288 with 1 Axes>"
            ]
          },
          "metadata": {
            "tags": []
          }
        }
      ]
    },
    {
      "metadata": {
        "colab_type": "code",
        "id": "yIGQcgB0PZnk",
        "colab": {
          "base_uri": "https://localhost:8080/",
          "height": 387
        },
        "outputId": "abce60a5-ca9c-4993-8bc2-37e0e986d6d3"
      },
      "cell_type": "code",
      "source": [
        "sns.catplot('day', data=tips, kind='count')"
      ],
      "execution_count": 74,
      "outputs": [
        {
          "output_type": "execute_result",
          "data": {
            "text/plain": [
              "<seaborn.axisgrid.FacetGrid at 0x7f00a2359f98>"
            ]
          },
          "metadata": {
            "tags": []
          },
          "execution_count": 74
        },
        {
          "output_type": "display_data",
          "data": {
            "image/png": "[encoded data removed]",
            "text/plain": [
              "<Figure size 360x360 with 1 Axes>"
            ]
          },
          "metadata": {
            "tags": []
          }
        }
      ]
    },
    {
      "metadata": {
        "colab_type": "text",
        "id": "Ftchuwrgljbs"
      },
      "cell_type": "markdown",
      "source": [
        "### Make bivariate [categorical plots](https://seaborn.pydata.org/generated/seaborn.catplot.html)"
      ]
    },
    {
      "metadata": {
        "id": "Eh_hsVAXMKO-",
        "colab_type": "code",
        "colab": {
          "base_uri": "https://localhost:8080/",
          "height": 387
        },
        "outputId": "d5043ddd-c0a8-41eb-879e-6b37e85d6a44"
      },
      "cell_type": "code",
      "source": [
        "sns.catplot('sex', 'percent', data=tips, kind='strip', alpha=0.5)"
      ],
      "execution_count": 75,
      "outputs": [
        {
          "output_type": "execute_result",
          "data": {
            "text/plain": [
              "<seaborn.axisgrid.FacetGrid at 0x7f00a229cd68>"
            ]
          },
          "metadata": {
            "tags": []
          },
          "execution_count": 75
        },
        {
          "output_type": "display_data",
          "data": {
            "image/png": "[encoded data removed]",
            "text/plain": [
              "<Figure size 360x360 with 1 Axes>"
            ]
          },
          "metadata": {
            "tags": []
          }
        }
      ]
    },
    {
      "metadata": {
        "colab_type": "text",
        "id": "FFWkWusYljbt"
      },
      "cell_type": "markdown",
      "source": [
        "## 3. Flights"
      ]
    },
    {
      "metadata": {
        "colab_type": "text",
        "id": "A9uGFj7fljbu"
      },
      "cell_type": "markdown",
      "source": [
        "### Load dataset"
      ]
    },
    {
      "metadata": {
        "colab_type": "code",
        "id": "x9Pd0h0_ljbu",
        "colab": {}
      },
      "cell_type": "code",
      "source": [
        "flights = sns.load_dataset('flights')"
      ],
      "execution_count": 0,
      "outputs": []
    },
    {
      "metadata": {
        "colab_type": "text",
        "id": "TqUSgAUcljbx"
      },
      "cell_type": "markdown",
      "source": [
        "### See the data's shape"
      ]
    },
    {
      "metadata": {
        "colab_type": "code",
        "id": "5WELCrPPljbx",
        "colab": {
          "base_uri": "https://localhost:8080/",
          "height": 35
        },
        "outputId": "5254b5d0-eed4-4362-8eac-cfeb4eba7aff"
      },
      "cell_type": "code",
      "source": [
        "flights.shape"
      ],
      "execution_count": 46,
      "outputs": [
        {
          "output_type": "execute_result",
          "data": {
            "text/plain": [
              "(144, 3)"
            ]
          },
          "metadata": {
            "tags": []
          },
          "execution_count": 46
        }
      ]
    },
    {
      "metadata": {
        "colab_type": "text",
        "id": "47WxnyjCljby"
      },
      "cell_type": "markdown",
      "source": [
        "### See the first 5 rows"
      ]
    },
    {
      "metadata": {
        "colab_type": "code",
        "id": "xCREANeJljby",
        "colab": {
          "base_uri": "https://localhost:8080/",
          "height": 198
        },
        "outputId": "47ebfc73-b459-45c6-dab2-899c8e4bd89f"
      },
      "cell_type": "code",
      "source": [
        "flights.head()"
      ],
      "execution_count": 47,
      "outputs": [
        {
          "output_type": "execute_result",
          "data": {
            "text/html": [
              "<div>\n",
              "<style scoped>\n",
              "    .dataframe tbody tr th:only-of-type {\n",
              "        vertical-align: middle;\n",
              "    }\n",
              "\n",
              "    .dataframe tbody tr th {\n",
              "        vertical-align: top;\n",
              "    }\n",
              "\n",
              "    .dataframe thead th {\n",
              "        text-align: right;\n",
              "    }\n",
              "</style>\n",
              "<table border=\"1\" class=\"dataframe\">\n",
              "  <thead>\n",
              "    <tr style=\"text-align: right;\">\n",
              "      <th></th>\n",
              "      <th>year</th>\n",
              "      <th>month</th>\n",
              "      <th>passengers</th>\n",
              "    </tr>\n",
              "  </thead>\n",
              "  <tbody>\n",
              "    <tr>\n",
              "      <th>0</th>\n",
              "      <td>1949</td>\n",
              "      <td>January</td>\n",
              "      <td>112</td>\n",
              "    </tr>\n",
              "    <tr>\n",
              "      <th>1</th>\n",
              "      <td>1949</td>\n",
              "      <td>February</td>\n",
              "      <td>118</td>\n",
              "    </tr>\n",
              "    <tr>\n",
              "      <th>2</th>\n",
              "      <td>1949</td>\n",
              "      <td>March</td>\n",
              "      <td>132</td>\n",
              "    </tr>\n",
              "    <tr>\n",
              "      <th>3</th>\n",
              "      <td>1949</td>\n",
              "      <td>April</td>\n",
              "      <td>129</td>\n",
              "    </tr>\n",
              "    <tr>\n",
              "      <th>4</th>\n",
              "      <td>1949</td>\n",
              "      <td>May</td>\n",
              "      <td>121</td>\n",
              "    </tr>\n",
              "  </tbody>\n",
              "</table>\n",
              "</div>"
            ],
            "text/plain": [
              "   year     month  passengers\n",
              "0  1949   January         112\n",
              "1  1949  February         118\n",
              "2  1949     March         132\n",
              "3  1949     April         129\n",
              "4  1949       May         121"
            ]
          },
          "metadata": {
            "tags": []
          },
          "execution_count": 47
        }
      ]
    },
    {
      "metadata": {
        "colab_type": "text",
        "id": "eUc_48wbljb0"
      },
      "cell_type": "markdown",
      "source": [
        "### Describe the data"
      ]
    },
    {
      "metadata": {
        "colab_type": "code",
        "id": "rA0xTMd7ljb0",
        "colab": {
          "base_uri": "https://localhost:8080/",
          "height": 288
        },
        "outputId": "c7e73dc0-c529-46a7-94b1-49e940a42857"
      },
      "cell_type": "code",
      "source": [
        "flights.describe()"
      ],
      "execution_count": 49,
      "outputs": [
        {
          "output_type": "execute_result",
          "data": {
            "text/html": [
              "<div>\n",
              "<style scoped>\n",
              "    .dataframe tbody tr th:only-of-type {\n",
              "        vertical-align: middle;\n",
              "    }\n",
              "\n",
              "    .dataframe tbody tr th {\n",
              "        vertical-align: top;\n",
              "    }\n",
              "\n",
              "    .dataframe thead th {\n",
              "        text-align: right;\n",
              "    }\n",
              "</style>\n",
              "<table border=\"1\" class=\"dataframe\">\n",
              "  <thead>\n",
              "    <tr style=\"text-align: right;\">\n",
              "      <th></th>\n",
              "      <th>year</th>\n",
              "      <th>passengers</th>\n",
              "    </tr>\n",
              "  </thead>\n",
              "  <tbody>\n",
              "    <tr>\n",
              "      <th>count</th>\n",
              "      <td>144.000000</td>\n",
              "      <td>144.000000</td>\n",
              "    </tr>\n",
              "    <tr>\n",
              "      <th>mean</th>\n",
              "      <td>1954.500000</td>\n",
              "      <td>280.298611</td>\n",
              "    </tr>\n",
              "    <tr>\n",
              "      <th>std</th>\n",
              "      <td>3.464102</td>\n",
              "      <td>119.966317</td>\n",
              "    </tr>\n",
              "    <tr>\n",
              "      <th>min</th>\n",
              "      <td>1949.000000</td>\n",
              "      <td>104.000000</td>\n",
              "    </tr>\n",
              "    <tr>\n",
              "      <th>25%</th>\n",
              "      <td>1951.750000</td>\n",
              "      <td>180.000000</td>\n",
              "    </tr>\n",
              "    <tr>\n",
              "      <th>50%</th>\n",
              "      <td>1954.500000</td>\n",
              "      <td>265.500000</td>\n",
              "    </tr>\n",
              "    <tr>\n",
              "      <th>75%</th>\n",
              "      <td>1957.250000</td>\n",
              "      <td>360.500000</td>\n",
              "    </tr>\n",
              "    <tr>\n",
              "      <th>max</th>\n",
              "      <td>1960.000000</td>\n",
              "      <td>622.000000</td>\n",
              "    </tr>\n",
              "  </tbody>\n",
              "</table>\n",
              "</div>"
            ],
            "text/plain": [
              "              year  passengers\n",
              "count   144.000000  144.000000\n",
              "mean   1954.500000  280.298611\n",
              "std       3.464102  119.966317\n",
              "min    1949.000000  104.000000\n",
              "25%    1951.750000  180.000000\n",
              "50%    1954.500000  265.500000\n",
              "75%    1957.250000  360.500000\n",
              "max    1960.000000  622.000000"
            ]
          },
          "metadata": {
            "tags": []
          },
          "execution_count": 49
        }
      ]
    },
    {
      "metadata": {
        "colab_type": "text",
        "id": "Pwg0lL5Lljb2"
      },
      "cell_type": "markdown",
      "source": [
        "### Plot year & passengers"
      ]
    },
    {
      "metadata": {
        "colab_type": "code",
        "id": "o2reqC4Eljb2",
        "colab": {
          "base_uri": "https://localhost:8080/",
          "height": 387
        },
        "outputId": "53ca8293-6657-4355-d488-8850e4a99913"
      },
      "cell_type": "code",
      "source": [
        "sns.relplot('year', 'passengers', data=flights);"
      ],
      "execution_count": 76,
      "outputs": [
        {
          "output_type": "execute_result",
          "data": {
            "text/plain": [
              "<seaborn.axisgrid.FacetGrid at 0x7f00a229c1d0>"
            ]
          },
          "metadata": {
            "tags": []
          },
          "execution_count": 76
        },
        {
          "output_type": "display_data",
          "data": {
            "image/png": "[encoded data removed]",
            "text/plain": [
              "<Figure size 360x360 with 1 Axes>"
            ]
          },
          "metadata": {
            "tags": []
          }
        }
      ]
    },
    {
      "metadata": {
        "id": "9eSjrPJGM1T5",
        "colab_type": "code",
        "colab": {
          "base_uri": "https://localhost:8080/",
          "height": 369
        },
        "outputId": "ffe4450f-afe1-4cd8-a788-37ce8a401287"
      },
      "cell_type": "code",
      "source": [
        "sns.relplot('year', 'passengers', data=flights, kind='line', ci=95);"
      ],
      "execution_count": 77,
      "outputs": [
        {
          "output_type": "display_data",
          "data": {
            "image/png": "[encoded data removed]",
            "text/plain": [
              "<Figure size 360x360 with 1 Axes>"
            ]
          },
          "metadata": {
            "tags": []
          }
        }
      ]
    },
    {
      "metadata": {
        "colab_type": "text",
        "id": "g1TKShQ2ljb4"
      },
      "cell_type": "markdown",
      "source": [
        "### Plot month & passengers"
      ]
    },
    {
      "metadata": {
        "colab_type": "code",
        "id": "Le0Tc5SDwoHk",
        "colab": {
          "base_uri": "https://localhost:8080/",
          "height": 415
        },
        "outputId": "bb67865e-6112-41a2-8551-fc1c78c7135c"
      },
      "cell_type": "code",
      "source": [
        "sns.catplot('month', 'passengers', data=flights);\n",
        "plt.xticks(rotation=90);"
      ],
      "execution_count": 78,
      "outputs": [
        {
          "output_type": "display_data",
          "data": {
            "image/png": "[encoded data removed]",
            "text/plain": [
              "<Figure size 360x360 with 1 Axes>"
            ]
          },
          "metadata": {
            "tags": []
          }
        }
      ]
    },
    {
      "metadata": {
        "colab_type": "text",
        "id": "Fh9lCwC-ljb6"
      },
      "cell_type": "markdown",
      "source": [
        "### Create a [pivot table](https://pandas.pydata.org/pandas-docs/stable/generated/pandas.DataFrame.pivot_table.html) of passengers by month and year"
      ]
    },
    {
      "metadata": {
        "colab_type": "code",
        "id": "JJrQbsXxljb6",
        "colab": {
          "base_uri": "https://localhost:8080/",
          "height": 438
        },
        "outputId": "8f18be92-e2b9-4381-d1de-493fdc31c1ae"
      },
      "cell_type": "code",
      "source": [
        "pivot = flights.pivot_table('passengers', 'month', 'year')\n",
        "pivot"
      ],
      "execution_count": 79,
      "outputs": [
        {
          "output_type": "execute_result",
          "data": {
            "text/html": [
              "<div>\n",
              "<style scoped>\n",
              "    .dataframe tbody tr th:only-of-type {\n",
              "        vertical-align: middle;\n",
              "    }\n",
              "\n",
              "    .dataframe tbody tr th {\n",
              "        vertical-align: top;\n",
              "    }\n",
              "\n",
              "    .dataframe thead th {\n",
              "        text-align: right;\n",
              "    }\n",
              "</style>\n",
              "<table border=\"1\" class=\"dataframe\">\n",
              "  <thead>\n",
              "    <tr style=\"text-align: right;\">\n",
              "      <th>year</th>\n",
              "      <th>1949</th>\n",
              "      <th>1950</th>\n",
              "      <th>1951</th>\n",
              "      <th>1952</th>\n",
              "      <th>1953</th>\n",
              "      <th>1954</th>\n",
              "      <th>1955</th>\n",
              "      <th>1956</th>\n",
              "      <th>1957</th>\n",
              "      <th>1958</th>\n",
              "      <th>1959</th>\n",
              "      <th>1960</th>\n",
              "    </tr>\n",
              "    <tr>\n",
              "      <th>month</th>\n",
              "      <th></th>\n",
              "      <th></th>\n",
              "      <th></th>\n",
              "      <th></th>\n",
              "      <th></th>\n",
              "      <th></th>\n",
              "      <th></th>\n",
              "      <th></th>\n",
              "      <th></th>\n",
              "      <th></th>\n",
              "      <th></th>\n",
              "      <th></th>\n",
              "    </tr>\n",
              "  </thead>\n",
              "  <tbody>\n",
              "    <tr>\n",
              "      <th>January</th>\n",
              "      <td>112</td>\n",
              "      <td>115</td>\n",
              "      <td>145</td>\n",
              "      <td>171</td>\n",
              "      <td>196</td>\n",
              "      <td>204</td>\n",
              "      <td>242</td>\n",
              "      <td>284</td>\n",
              "      <td>315</td>\n",
              "      <td>340</td>\n",
              "      <td>360</td>\n",
              "      <td>417</td>\n",
              "    </tr>\n",
              "    <tr>\n",
              "      <th>February</th>\n",
              "      <td>118</td>\n",
              "      <td>126</td>\n",
              "      <td>150</td>\n",
              "      <td>180</td>\n",
              "      <td>196</td>\n",
              "      <td>188</td>\n",
              "      <td>233</td>\n",
              "      <td>277</td>\n",
              "      <td>301</td>\n",
              "      <td>318</td>\n",
              "      <td>342</td>\n",
              "      <td>391</td>\n",
              "    </tr>\n",
              "    <tr>\n",
              "      <th>March</th>\n",
              "      <td>132</td>\n",
              "      <td>141</td>\n",
              "      <td>178</td>\n",
              "      <td>193</td>\n",
              "      <td>236</td>\n",
              "      <td>235</td>\n",
              "      <td>267</td>\n",
              "      <td>317</td>\n",
              "      <td>356</td>\n",
              "      <td>362</td>\n",
              "      <td>406</td>\n",
              "      <td>419</td>\n",
              "    </tr>\n",
              "    <tr>\n",
              "      <th>April</th>\n",
              "      <td>129</td>\n",
              "      <td>135</td>\n",
              "      <td>163</td>\n",
              "      <td>181</td>\n",
              "      <td>235</td>\n",
              "      <td>227</td>\n",
              "      <td>269</td>\n",
              "      <td>313</td>\n",
              "      <td>348</td>\n",
              "      <td>348</td>\n",
              "      <td>396</td>\n",
              "      <td>461</td>\n",
              "    </tr>\n",
              "    <tr>\n",
              "      <th>May</th>\n",
              "      <td>121</td>\n",
              "      <td>125</td>\n",
              "      <td>172</td>\n",
              "      <td>183</td>\n",
              "      <td>229</td>\n",
              "      <td>234</td>\n",
              "      <td>270</td>\n",
              "      <td>318</td>\n",
              "      <td>355</td>\n",
              "      <td>363</td>\n",
              "      <td>420</td>\n",
              "      <td>472</td>\n",
              "    </tr>\n",
              "    <tr>\n",
              "      <th>June</th>\n",
              "      <td>135</td>\n",
              "      <td>149</td>\n",
              "      <td>178</td>\n",
              "      <td>218</td>\n",
              "      <td>243</td>\n",
              "      <td>264</td>\n",
              "      <td>315</td>\n",
              "      <td>374</td>\n",
              "      <td>422</td>\n",
              "      <td>435</td>\n",
              "      <td>472</td>\n",
              "      <td>535</td>\n",
              "    </tr>\n",
              "    <tr>\n",
              "      <th>July</th>\n",
              "      <td>148</td>\n",
              "      <td>170</td>\n",
              "      <td>199</td>\n",
              "      <td>230</td>\n",
              "      <td>264</td>\n",
              "      <td>302</td>\n",
              "      <td>364</td>\n",
              "      <td>413</td>\n",
              "      <td>465</td>\n",
              "      <td>491</td>\n",
              "      <td>548</td>\n",
              "      <td>622</td>\n",
              "    </tr>\n",
              "    <tr>\n",
              "      <th>August</th>\n",
              "      <td>148</td>\n",
              "      <td>170</td>\n",
              "      <td>199</td>\n",
              "      <td>242</td>\n",
              "      <td>272</td>\n",
              "      <td>293</td>\n",
              "      <td>347</td>\n",
              "      <td>405</td>\n",
              "      <td>467</td>\n",
              "      <td>505</td>\n",
              "      <td>559</td>\n",
              "      <td>606</td>\n",
              "    </tr>\n",
              "    <tr>\n",
              "      <th>September</th>\n",
              "      <td>136</td>\n",
              "      <td>158</td>\n",
              "      <td>184</td>\n",
              "      <td>209</td>\n",
              "      <td>237</td>\n",
              "      <td>259</td>\n",
              "      <td>312</td>\n",
              "      <td>355</td>\n",
              "      <td>404</td>\n",
              "      <td>404</td>\n",
              "      <td>463</td>\n",
              "      <td>508</td>\n",
              "    </tr>\n",
              "    <tr>\n",
              "      <th>October</th>\n",
              "      <td>119</td>\n",
              "      <td>133</td>\n",
              "      <td>162</td>\n",
              "      <td>191</td>\n",
              "      <td>211</td>\n",
              "      <td>229</td>\n",
              "      <td>274</td>\n",
              "      <td>306</td>\n",
              "      <td>347</td>\n",
              "      <td>359</td>\n",
              "      <td>407</td>\n",
              "      <td>461</td>\n",
              "    </tr>\n",
              "    <tr>\n",
              "      <th>November</th>\n",
              "      <td>104</td>\n",
              "      <td>114</td>\n",
              "      <td>146</td>\n",
              "      <td>172</td>\n",
              "      <td>180</td>\n",
              "      <td>203</td>\n",
              "      <td>237</td>\n",
              "      <td>271</td>\n",
              "      <td>305</td>\n",
              "      <td>310</td>\n",
              "      <td>362</td>\n",
              "      <td>390</td>\n",
              "    </tr>\n",
              "    <tr>\n",
              "      <th>December</th>\n",
              "      <td>118</td>\n",
              "      <td>140</td>\n",
              "      <td>166</td>\n",
              "      <td>194</td>\n",
              "      <td>201</td>\n",
              "      <td>229</td>\n",
              "      <td>278</td>\n",
              "      <td>306</td>\n",
              "      <td>336</td>\n",
              "      <td>337</td>\n",
              "      <td>405</td>\n",
              "      <td>432</td>\n",
              "    </tr>\n",
              "  </tbody>\n",
              "</table>\n",
              "</div>"
            ],
            "text/plain": [
              "year       1949  1950  1951  1952  1953  1954  1955  1956  1957  1958  1959  \\\n",
              "month                                                                         \n",
              "January     112   115   145   171   196   204   242   284   315   340   360   \n",
              "February    118   126   150   180   196   188   233   277   301   318   342   \n",
              "March       132   141   178   193   236   235   267   317   356   362   406   \n",
              "April       129   135   163   181   235   227   269   313   348   348   396   \n",
              "May         121   125   172   183   229   234   270   318   355   363   420   \n",
              "June        135   149   178   218   243   264   315   374   422   435   472   \n",
              "July        148   170   199   230   264   302   364   413   465   491   548   \n",
              "August      148   170   199   242   272   293   347   405   467   505   559   \n",
              "September   136   158   184   209   237   259   312   355   404   404   463   \n",
              "October     119   133   162   191   211   229   274   306   347   359   407   \n",
              "November    104   114   146   172   180   203   237   271   305   310   362   \n",
              "December    118   140   166   194   201   229   278   306   336   337   405   \n",
              "\n",
              "year       1960  \n",
              "month            \n",
              "January     417  \n",
              "February    391  \n",
              "March       419  \n",
              "April       461  \n",
              "May         472  \n",
              "June        535  \n",
              "July        622  \n",
              "August      606  \n",
              "September   508  \n",
              "October     461  \n",
              "November    390  \n",
              "December    432  "
            ]
          },
          "metadata": {
            "tags": []
          },
          "execution_count": 79
        }
      ]
    },
    {
      "metadata": {
        "colab_type": "text",
        "id": "MRast1t4ljb7"
      },
      "cell_type": "markdown",
      "source": [
        "### Plot the pivot table as a [heat map](https://seaborn.pydata.org/generated/seaborn.heatmap.html)"
      ]
    },
    {
      "metadata": {
        "colab_type": "code",
        "id": "nLGYX_5Bljb9",
        "colab": {
          "base_uri": "https://localhost:8080/",
          "height": 555
        },
        "outputId": "54615aaf-c961-4a93-a897-bdd4f5e24ee6"
      },
      "cell_type": "code",
      "source": [
        "plt.figure(figsize=(16,9))\n",
        "sns.heatmap(pivot, annot=True, fmt='d');"
      ],
      "execution_count": 81,
      "outputs": [
        {
          "output_type": "display_data",
          "data": {
            "image/png": "[encoded data removed]",
            "text/plain": [
              "<Figure size 1152x648 with 2 Axes>"
            ]
          },
          "metadata": {
            "tags": []
          }
        }
      ]
    },
    {
      "metadata": {
        "colab_type": "text",
        "id": "xmEaapURMyKZ"
      },
      "cell_type": "markdown",
      "source": [
        "# ASSIGNMENT\n",
        "\n",
        "### 1.\n",
        "\n",
        "Replicate the lesson code. I recommend that you [do not copy-paste](https://docs.google.com/document/d/1ubOw9B3Hfip27hF2ZFnW3a3z9xAgrUDRReOEo-FHCVs/edit).\n",
        "\n",
        "### 2.\n",
        "\n",
        "Choose a chart you want to make, from [Visual Vocabulary - Vega Edition](http://ft.com/vocabulary).\n",
        "\n",
        "Find the chart in an example gallery of a Python data visualization library:\n",
        "- [Seaborn](http://seaborn.pydata.org/examples/index.html)\n",
        "- [Altair](https://altair-viz.github.io/gallery/index.html)\n",
        "- [Matplotlib](https://matplotlib.org/gallery.html)\n",
        "- [Pandas](https://pandas.pydata.org/pandas-docs/stable/visualization.html)\n",
        "\n",
        "Reproduce the chart. [Optionally, try the \"Ben Franklin Method.\"](https://docs.google.com/document/d/1ubOw9B3Hfip27hF2ZFnW3a3z9xAgrUDRReOEo-FHCVs/edit) If you want, experiment and make changes.\n",
        "\n",
        "Take notes. Consider sharing your work with your cohort!"
      ]
    },
    {
      "metadata": {
        "id": "_4wsoxhkuBMF",
        "colab_type": "code",
        "colab": {}
      },
      "cell_type": "code",
      "source": [
        "import numpy as np"
      ],
      "execution_count": 0,
      "outputs": []
    },
    {
      "metadata": {
        "id": "y7_Fy0wauCtd",
        "colab_type": "code",
        "colab": {}
      },
      "cell_type": "code",
      "source": [
        "states = alt.topo_feature(data.us_10m.url, 'states')\n",
        "source = 'https://raw.githubusercontent.com/Nolanole/DS-Unit-1-Sprint-3-Data-Storytelling/master/2016_election_by_state.csv'\n",
        "variable = 'votes'"
      ],
      "execution_count": 0,
      "outputs": []
    },
    {
      "metadata": {
        "id": "jFVddKaGuHv5",
        "colab_type": "code",
        "colab": {
          "base_uri": "https://localhost:8080/",
          "height": 1608
        },
        "outputId": "38f3d1e3-ff0f-47ce-ce9c-e2ef0229617e"
      },
      "cell_type": "code",
      "source": [
        "electoral_df = pd.read_csv(source)\n",
        "electoral_df['is_red_2016'] = electoral_df['is_red_2016'].replace({0: -1})\n",
        "electoral_df['votes'] = electoral_df['electoral_votes']*electoral_df['is_red_2016']*(-1)\n",
        "electoral_df"
      ],
      "execution_count": 100,
      "outputs": [
        {
          "output_type": "execute_result",
          "data": {
            "text/html": [
              "<div>\n",
              "<style scoped>\n",
              "    .dataframe tbody tr th:only-of-type {\n",
              "        vertical-align: middle;\n",
              "    }\n",
              "\n",
              "    .dataframe tbody tr th {\n",
              "        vertical-align: top;\n",
              "    }\n",
              "\n",
              "    .dataframe thead th {\n",
              "        text-align: right;\n",
              "    }\n",
              "</style>\n",
              "<table border=\"1\" class=\"dataframe\">\n",
              "  <thead>\n",
              "    <tr style=\"text-align: right;\">\n",
              "      <th></th>\n",
              "      <th>state</th>\n",
              "      <th>id</th>\n",
              "      <th>population</th>\n",
              "      <th>electoral_votes</th>\n",
              "      <th>is_red_2016</th>\n",
              "      <th>votes</th>\n",
              "    </tr>\n",
              "  </thead>\n",
              "  <tbody>\n",
              "    <tr>\n",
              "      <th>0</th>\n",
              "      <td>Alabama</td>\n",
              "      <td>1</td>\n",
              "      <td>4863300</td>\n",
              "      <td>9</td>\n",
              "      <td>1</td>\n",
              "      <td>-9</td>\n",
              "    </tr>\n",
              "    <tr>\n",
              "      <th>1</th>\n",
              "      <td>Alaska</td>\n",
              "      <td>2</td>\n",
              "      <td>741894</td>\n",
              "      <td>3</td>\n",
              "      <td>1</td>\n",
              "      <td>-3</td>\n",
              "    </tr>\n",
              "    <tr>\n",
              "      <th>2</th>\n",
              "      <td>Arizona</td>\n",
              "      <td>4</td>\n",
              "      <td>6931071</td>\n",
              "      <td>11</td>\n",
              "      <td>1</td>\n",
              "      <td>-11</td>\n",
              "    </tr>\n",
              "    <tr>\n",
              "      <th>3</th>\n",
              "      <td>Arkansas</td>\n",
              "      <td>5</td>\n",
              "      <td>2988248</td>\n",
              "      <td>6</td>\n",
              "      <td>1</td>\n",
              "      <td>-6</td>\n",
              "    </tr>\n",
              "    <tr>\n",
              "      <th>4</th>\n",
              "      <td>California</td>\n",
              "      <td>6</td>\n",
              "      <td>39250017</td>\n",
              "      <td>55</td>\n",
              "      <td>-1</td>\n",
              "      <td>55</td>\n",
              "    </tr>\n",
              "    <tr>\n",
              "      <th>5</th>\n",
              "      <td>Colorado</td>\n",
              "      <td>8</td>\n",
              "      <td>5540545</td>\n",
              "      <td>9</td>\n",
              "      <td>-1</td>\n",
              "      <td>9</td>\n",
              "    </tr>\n",
              "    <tr>\n",
              "      <th>6</th>\n",
              "      <td>Connecticut</td>\n",
              "      <td>9</td>\n",
              "      <td>3576452</td>\n",
              "      <td>7</td>\n",
              "      <td>-1</td>\n",
              "      <td>7</td>\n",
              "    </tr>\n",
              "    <tr>\n",
              "      <th>7</th>\n",
              "      <td>Delaware</td>\n",
              "      <td>10</td>\n",
              "      <td>952065</td>\n",
              "      <td>3</td>\n",
              "      <td>-1</td>\n",
              "      <td>3</td>\n",
              "    </tr>\n",
              "    <tr>\n",
              "      <th>8</th>\n",
              "      <td>District of Columbia</td>\n",
              "      <td>11</td>\n",
              "      <td>681170</td>\n",
              "      <td>3</td>\n",
              "      <td>-1</td>\n",
              "      <td>3</td>\n",
              "    </tr>\n",
              "    <tr>\n",
              "      <th>9</th>\n",
              "      <td>Florida</td>\n",
              "      <td>12</td>\n",
              "      <td>20612439</td>\n",
              "      <td>29</td>\n",
              "      <td>1</td>\n",
              "      <td>-29</td>\n",
              "    </tr>\n",
              "    <tr>\n",
              "      <th>10</th>\n",
              "      <td>Georgia</td>\n",
              "      <td>13</td>\n",
              "      <td>10310371</td>\n",
              "      <td>16</td>\n",
              "      <td>1</td>\n",
              "      <td>-16</td>\n",
              "    </tr>\n",
              "    <tr>\n",
              "      <th>11</th>\n",
              "      <td>Hawaii</td>\n",
              "      <td>15</td>\n",
              "      <td>1428557</td>\n",
              "      <td>4</td>\n",
              "      <td>-1</td>\n",
              "      <td>4</td>\n",
              "    </tr>\n",
              "    <tr>\n",
              "      <th>12</th>\n",
              "      <td>Idaho</td>\n",
              "      <td>16</td>\n",
              "      <td>1683140</td>\n",
              "      <td>4</td>\n",
              "      <td>1</td>\n",
              "      <td>-4</td>\n",
              "    </tr>\n",
              "    <tr>\n",
              "      <th>13</th>\n",
              "      <td>Illinois</td>\n",
              "      <td>17</td>\n",
              "      <td>12801539</td>\n",
              "      <td>20</td>\n",
              "      <td>-1</td>\n",
              "      <td>20</td>\n",
              "    </tr>\n",
              "    <tr>\n",
              "      <th>14</th>\n",
              "      <td>Indiana</td>\n",
              "      <td>18</td>\n",
              "      <td>6633053</td>\n",
              "      <td>11</td>\n",
              "      <td>1</td>\n",
              "      <td>-11</td>\n",
              "    </tr>\n",
              "    <tr>\n",
              "      <th>15</th>\n",
              "      <td>Iowa</td>\n",
              "      <td>19</td>\n",
              "      <td>3134693</td>\n",
              "      <td>6</td>\n",
              "      <td>1</td>\n",
              "      <td>-6</td>\n",
              "    </tr>\n",
              "    <tr>\n",
              "      <th>16</th>\n",
              "      <td>Kansas</td>\n",
              "      <td>20</td>\n",
              "      <td>2907289</td>\n",
              "      <td>6</td>\n",
              "      <td>1</td>\n",
              "      <td>-6</td>\n",
              "    </tr>\n",
              "    <tr>\n",
              "      <th>17</th>\n",
              "      <td>Kentucky</td>\n",
              "      <td>21</td>\n",
              "      <td>4436974</td>\n",
              "      <td>8</td>\n",
              "      <td>1</td>\n",
              "      <td>-8</td>\n",
              "    </tr>\n",
              "    <tr>\n",
              "      <th>18</th>\n",
              "      <td>Louisiana</td>\n",
              "      <td>22</td>\n",
              "      <td>4681666</td>\n",
              "      <td>8</td>\n",
              "      <td>1</td>\n",
              "      <td>-8</td>\n",
              "    </tr>\n",
              "    <tr>\n",
              "      <th>19</th>\n",
              "      <td>Maine</td>\n",
              "      <td>23</td>\n",
              "      <td>1331479</td>\n",
              "      <td>4</td>\n",
              "      <td>-1</td>\n",
              "      <td>4</td>\n",
              "    </tr>\n",
              "    <tr>\n",
              "      <th>20</th>\n",
              "      <td>Maryland</td>\n",
              "      <td>24</td>\n",
              "      <td>6016447</td>\n",
              "      <td>10</td>\n",
              "      <td>-1</td>\n",
              "      <td>10</td>\n",
              "    </tr>\n",
              "    <tr>\n",
              "      <th>21</th>\n",
              "      <td>Massachusetts</td>\n",
              "      <td>25</td>\n",
              "      <td>6811779</td>\n",
              "      <td>11</td>\n",
              "      <td>-1</td>\n",
              "      <td>11</td>\n",
              "    </tr>\n",
              "    <tr>\n",
              "      <th>22</th>\n",
              "      <td>Michigan</td>\n",
              "      <td>26</td>\n",
              "      <td>9928300</td>\n",
              "      <td>16</td>\n",
              "      <td>1</td>\n",
              "      <td>-16</td>\n",
              "    </tr>\n",
              "    <tr>\n",
              "      <th>23</th>\n",
              "      <td>Minnesota</td>\n",
              "      <td>27</td>\n",
              "      <td>5519952</td>\n",
              "      <td>10</td>\n",
              "      <td>-1</td>\n",
              "      <td>10</td>\n",
              "    </tr>\n",
              "    <tr>\n",
              "      <th>24</th>\n",
              "      <td>Mississippi</td>\n",
              "      <td>28</td>\n",
              "      <td>2988726</td>\n",
              "      <td>6</td>\n",
              "      <td>1</td>\n",
              "      <td>-6</td>\n",
              "    </tr>\n",
              "    <tr>\n",
              "      <th>25</th>\n",
              "      <td>Missouri</td>\n",
              "      <td>29</td>\n",
              "      <td>6093000</td>\n",
              "      <td>10</td>\n",
              "      <td>1</td>\n",
              "      <td>-10</td>\n",
              "    </tr>\n",
              "    <tr>\n",
              "      <th>26</th>\n",
              "      <td>Montana</td>\n",
              "      <td>30</td>\n",
              "      <td>1042520</td>\n",
              "      <td>3</td>\n",
              "      <td>1</td>\n",
              "      <td>-3</td>\n",
              "    </tr>\n",
              "    <tr>\n",
              "      <th>27</th>\n",
              "      <td>Nebraska</td>\n",
              "      <td>31</td>\n",
              "      <td>1907116</td>\n",
              "      <td>5</td>\n",
              "      <td>1</td>\n",
              "      <td>-5</td>\n",
              "    </tr>\n",
              "    <tr>\n",
              "      <th>28</th>\n",
              "      <td>Nevada</td>\n",
              "      <td>32</td>\n",
              "      <td>2940058</td>\n",
              "      <td>6</td>\n",
              "      <td>-1</td>\n",
              "      <td>6</td>\n",
              "    </tr>\n",
              "    <tr>\n",
              "      <th>29</th>\n",
              "      <td>New Hampshire</td>\n",
              "      <td>33</td>\n",
              "      <td>1334795</td>\n",
              "      <td>4</td>\n",
              "      <td>-1</td>\n",
              "      <td>4</td>\n",
              "    </tr>\n",
              "    <tr>\n",
              "      <th>30</th>\n",
              "      <td>New Jersey</td>\n",
              "      <td>34</td>\n",
              "      <td>8944469</td>\n",
              "      <td>14</td>\n",
              "      <td>-1</td>\n",
              "      <td>14</td>\n",
              "    </tr>\n",
              "    <tr>\n",
              "      <th>31</th>\n",
              "      <td>New Mexico</td>\n",
              "      <td>35</td>\n",
              "      <td>2081015</td>\n",
              "      <td>5</td>\n",
              "      <td>-1</td>\n",
              "      <td>5</td>\n",
              "    </tr>\n",
              "    <tr>\n",
              "      <th>32</th>\n",
              "      <td>New York</td>\n",
              "      <td>36</td>\n",
              "      <td>19745289</td>\n",
              "      <td>29</td>\n",
              "      <td>-1</td>\n",
              "      <td>29</td>\n",
              "    </tr>\n",
              "    <tr>\n",
              "      <th>33</th>\n",
              "      <td>North Carolina</td>\n",
              "      <td>37</td>\n",
              "      <td>10146788</td>\n",
              "      <td>15</td>\n",
              "      <td>1</td>\n",
              "      <td>-15</td>\n",
              "    </tr>\n",
              "    <tr>\n",
              "      <th>34</th>\n",
              "      <td>North Dakota</td>\n",
              "      <td>38</td>\n",
              "      <td>757952</td>\n",
              "      <td>3</td>\n",
              "      <td>1</td>\n",
              "      <td>-3</td>\n",
              "    </tr>\n",
              "    <tr>\n",
              "      <th>35</th>\n",
              "      <td>Ohio</td>\n",
              "      <td>39</td>\n",
              "      <td>11614373</td>\n",
              "      <td>18</td>\n",
              "      <td>1</td>\n",
              "      <td>-18</td>\n",
              "    </tr>\n",
              "    <tr>\n",
              "      <th>36</th>\n",
              "      <td>Oklahoma</td>\n",
              "      <td>40</td>\n",
              "      <td>3923561</td>\n",
              "      <td>7</td>\n",
              "      <td>1</td>\n",
              "      <td>-7</td>\n",
              "    </tr>\n",
              "    <tr>\n",
              "      <th>37</th>\n",
              "      <td>Oregon</td>\n",
              "      <td>41</td>\n",
              "      <td>4093465</td>\n",
              "      <td>7</td>\n",
              "      <td>-1</td>\n",
              "      <td>7</td>\n",
              "    </tr>\n",
              "    <tr>\n",
              "      <th>38</th>\n",
              "      <td>Pennsylvania</td>\n",
              "      <td>42</td>\n",
              "      <td>12784227</td>\n",
              "      <td>20</td>\n",
              "      <td>1</td>\n",
              "      <td>-20</td>\n",
              "    </tr>\n",
              "    <tr>\n",
              "      <th>39</th>\n",
              "      <td>Rhode Island</td>\n",
              "      <td>44</td>\n",
              "      <td>1056426</td>\n",
              "      <td>4</td>\n",
              "      <td>-1</td>\n",
              "      <td>4</td>\n",
              "    </tr>\n",
              "    <tr>\n",
              "      <th>40</th>\n",
              "      <td>South Carolina</td>\n",
              "      <td>45</td>\n",
              "      <td>4961119</td>\n",
              "      <td>9</td>\n",
              "      <td>1</td>\n",
              "      <td>-9</td>\n",
              "    </tr>\n",
              "    <tr>\n",
              "      <th>41</th>\n",
              "      <td>South Dakota</td>\n",
              "      <td>46</td>\n",
              "      <td>865454</td>\n",
              "      <td>3</td>\n",
              "      <td>1</td>\n",
              "      <td>-3</td>\n",
              "    </tr>\n",
              "    <tr>\n",
              "      <th>42</th>\n",
              "      <td>Tennessee</td>\n",
              "      <td>47</td>\n",
              "      <td>6651194</td>\n",
              "      <td>11</td>\n",
              "      <td>1</td>\n",
              "      <td>-11</td>\n",
              "    </tr>\n",
              "    <tr>\n",
              "      <th>43</th>\n",
              "      <td>Texas</td>\n",
              "      <td>48</td>\n",
              "      <td>27862596</td>\n",
              "      <td>38</td>\n",
              "      <td>1</td>\n",
              "      <td>-38</td>\n",
              "    </tr>\n",
              "    <tr>\n",
              "      <th>44</th>\n",
              "      <td>Utah</td>\n",
              "      <td>49</td>\n",
              "      <td>3051217</td>\n",
              "      <td>6</td>\n",
              "      <td>1</td>\n",
              "      <td>-6</td>\n",
              "    </tr>\n",
              "    <tr>\n",
              "      <th>45</th>\n",
              "      <td>Vermont</td>\n",
              "      <td>50</td>\n",
              "      <td>624594</td>\n",
              "      <td>3</td>\n",
              "      <td>-1</td>\n",
              "      <td>3</td>\n",
              "    </tr>\n",
              "    <tr>\n",
              "      <th>46</th>\n",
              "      <td>Virginia</td>\n",
              "      <td>51</td>\n",
              "      <td>8411808</td>\n",
              "      <td>13</td>\n",
              "      <td>-1</td>\n",
              "      <td>13</td>\n",
              "    </tr>\n",
              "    <tr>\n",
              "      <th>47</th>\n",
              "      <td>Washington</td>\n",
              "      <td>53</td>\n",
              "      <td>7288000</td>\n",
              "      <td>12</td>\n",
              "      <td>-1</td>\n",
              "      <td>12</td>\n",
              "    </tr>\n",
              "    <tr>\n",
              "      <th>48</th>\n",
              "      <td>West Virginia</td>\n",
              "      <td>54</td>\n",
              "      <td>1831102</td>\n",
              "      <td>5</td>\n",
              "      <td>1</td>\n",
              "      <td>-5</td>\n",
              "    </tr>\n",
              "    <tr>\n",
              "      <th>49</th>\n",
              "      <td>Wisconsin</td>\n",
              "      <td>55</td>\n",
              "      <td>5778708</td>\n",
              "      <td>10</td>\n",
              "      <td>1</td>\n",
              "      <td>-10</td>\n",
              "    </tr>\n",
              "    <tr>\n",
              "      <th>50</th>\n",
              "      <td>Wyoming</td>\n",
              "      <td>56</td>\n",
              "      <td>585501</td>\n",
              "      <td>3</td>\n",
              "      <td>1</td>\n",
              "      <td>-3</td>\n",
              "    </tr>\n",
              "    <tr>\n",
              "      <th>51</th>\n",
              "      <td>Puerto Rico</td>\n",
              "      <td>72</td>\n",
              "      <td>3411307</td>\n",
              "      <td>0</td>\n",
              "      <td>-1</td>\n",
              "      <td>0</td>\n",
              "    </tr>\n",
              "  </tbody>\n",
              "</table>\n",
              "</div>"
            ],
            "text/plain": [
              "                   state  id  population  electoral_votes  is_red_2016  votes\n",
              "0                Alabama   1     4863300                9            1     -9\n",
              "1                 Alaska   2      741894                3            1     -3\n",
              "2                Arizona   4     6931071               11            1    -11\n",
              "3               Arkansas   5     2988248                6            1     -6\n",
              "4             California   6    39250017               55           -1     55\n",
              "5               Colorado   8     5540545                9           -1      9\n",
              "6            Connecticut   9     3576452                7           -1      7\n",
              "7               Delaware  10      952065                3           -1      3\n",
              "8   District of Columbia  11      681170                3           -1      3\n",
              "9                Florida  12    20612439               29            1    -29\n",
              "10               Georgia  13    10310371               16            1    -16\n",
              "11                Hawaii  15     1428557                4           -1      4\n",
              "12                 Idaho  16     1683140                4            1     -4\n",
              "13              Illinois  17    12801539               20           -1     20\n",
              "14               Indiana  18     6633053               11            1    -11\n",
              "15                  Iowa  19     3134693                6            1     -6\n",
              "16                Kansas  20     2907289                6            1     -6\n",
              "17              Kentucky  21     4436974                8            1     -8\n",
              "18             Louisiana  22     4681666                8            1     -8\n",
              "19                 Maine  23     1331479                4           -1      4\n",
              "20              Maryland  24     6016447               10           -1     10\n",
              "21         Massachusetts  25     6811779               11           -1     11\n",
              "22              Michigan  26     9928300               16            1    -16\n",
              "23             Minnesota  27     5519952               10           -1     10\n",
              "24           Mississippi  28     2988726                6            1     -6\n",
              "25              Missouri  29     6093000               10            1    -10\n",
              "26               Montana  30     1042520                3            1     -3\n",
              "27              Nebraska  31     1907116                5            1     -5\n",
              "28                Nevada  32     2940058                6           -1      6\n",
              "29         New Hampshire  33     1334795                4           -1      4\n",
              "30            New Jersey  34     8944469               14           -1     14\n",
              "31            New Mexico  35     2081015                5           -1      5\n",
              "32              New York  36    19745289               29           -1     29\n",
              "33        North Carolina  37    10146788               15            1    -15\n",
              "34          North Dakota  38      757952                3            1     -3\n",
              "35                  Ohio  39    11614373               18            1    -18\n",
              "36              Oklahoma  40     3923561                7            1     -7\n",
              "37                Oregon  41     4093465                7           -1      7\n",
              "38          Pennsylvania  42    12784227               20            1    -20\n",
              "39          Rhode Island  44     1056426                4           -1      4\n",
              "40        South Carolina  45     4961119                9            1     -9\n",
              "41          South Dakota  46      865454                3            1     -3\n",
              "42             Tennessee  47     6651194               11            1    -11\n",
              "43                 Texas  48    27862596               38            1    -38\n",
              "44                  Utah  49     3051217                6            1     -6\n",
              "45               Vermont  50      624594                3           -1      3\n",
              "46              Virginia  51     8411808               13           -1     13\n",
              "47            Washington  53     7288000               12           -1     12\n",
              "48         West Virginia  54     1831102                5            1     -5\n",
              "49             Wisconsin  55     5778708               10            1    -10\n",
              "50               Wyoming  56      585501                3            1     -3\n",
              "51           Puerto Rico  72     3411307                0           -1      0"
            ]
          },
          "metadata": {
            "tags": []
          },
          "execution_count": 100
        }
      ]
    },
    {
      "metadata": {
        "id": "t8qICW14uK5U",
        "colab_type": "code",
        "colab": {
          "base_uri": "https://localhost:8080/",
          "height": 348
        },
        "outputId": "54a520c0-4a9b-43b9-fa26-33d475676737"
      },
      "cell_type": "code",
      "source": [
        "#Electoral Map, shade/Hue for # electoral Votes:\n",
        "\n",
        "alt.Chart(states).mark_geoshape().encode(\n",
        "    alt.Color(variable, legend=None, type='nominal', scale=alt.Scale(scheme='redblue'))\n",
        "    ).transform_lookup(\n",
        "        lookup='id',\n",
        "        from_=alt.LookupData(electoral_df, 'id', [variable])\n",
        "    ).properties(\n",
        "        width=500,\n",
        "        height=300,\n",
        "        title='2016 US Presidential Election Map, Shaded by # Electoral Votes'\n",
        "    ).project(\n",
        "        type='albersUsa')"
      ],
      "execution_count": 101,
      "outputs": [
        {
          "output_type": "execute_result",
          "data": {
            "text/plain": [
              "Chart({\n",
              "  data: UrlData({\n",
              "    format: TopoDataFormat({\n",
              "      feature: 'states',\n",
              "      type: 'topojson'\n",
              "    }),\n",
              "    url: 'https://vega.github.io/vega-datasets/data/us-10m.json'\n",
              "  }),\n",
              "  encoding: EncodingWithFacet({\n",
              "    color: Color({\n",
              "      legend: None,\n",
              "      scale: Scale({\n",
              "        scheme: 'redblue'\n",
              "      }),\n",
              "      shorthand: 'votes',\n",
              "      type: 'nominal'\n",
              "    })\n",
              "  }),\n",
              "  height: 300,\n",
              "  mark: 'geoshape',\n",
              "  projection: Projection({\n",
              "    type: 'albersUsa'\n",
              "  }),\n",
              "  title: '2016 US Presidential Election Map, Shaded by # Electoral Votes',\n",
              "  transform: [LookupTransform({\n",
              "    from: LookupData({\n",
              "      data:                    state  id  population  electoral_votes  is_red_2016  votes\n",
              "      0                Alabama   1     4863300                9            1     -9\n",
              "      1                 Alaska   2      741894                3            1     -3\n",
              "      2                Arizona   4     6931071               11            1    -11\n",
              "      3               Arkansas   5     2988248                6            1     -6\n",
              "      4             California   6    39250017               55           -1     55\n",
              "      5               Colorado   8     5540545                9           -1      9\n",
              "      6            Connecticut   9     3576452                7           -1      7\n",
              "      7               Delaware  10      952065                3           -1      3\n",
              "      8   District of Columbia  11      681170                3           -1      3\n",
              "      9                Florida  12    20612439               29            1    -29\n",
              "      10               Georgia  13    10310371               16            1    -16\n",
              "      11                Hawaii  15     1428557                4           -1      4\n",
              "      12                 Idaho  16     1683140                4            1     -4\n",
              "      13              Illinois  17    12801539               20           -1     20\n",
              "      14               Indiana  18     6633053               11            1    -11\n",
              "      15                  Iowa  19     3134693                6            1     -6\n",
              "      16                Kansas  20     2907289                6            1     -6\n",
              "      17              Kentucky  21     4436974                8            1     -8\n",
              "      18             Louisiana  22     4681666                8            1     -8\n",
              "      19                 Maine  23     1331479                4           -1      4\n",
              "      20              Maryland  24     6016447               10           -1     10\n",
              "      21         Massachusetts  25     6811779               11           -1     11\n",
              "      22              Michigan  26     9928300               16            1    -16\n",
              "      23             Minnesota  27     5519952               10           -1     10\n",
              "      24           Mississippi  28     2988726                6            1     -6\n",
              "      25              Missouri  29     6093000               10            1    -10\n",
              "      26               Montana  30     1042520                3            1     -3\n",
              "      27              Nebraska  31     1907116                5            1     -5\n",
              "      28                Nevada  32     2940058                6           -1      6\n",
              "      29         New Hampshire  33     1334795                4           -1      4\n",
              "      30            New Jersey  34     8944469               14           -1     14\n",
              "      31            New Mexico  35     2081015                5           -1      5\n",
              "      32              New York  36    19745289               29           -1     29\n",
              "      33        North Carolina  37    10146788               15            1    -15\n",
              "      34          North Dakota  38      757952                3            1     -3\n",
              "      35                  Ohio  39    11614373               18            1    -18\n",
              "      36              Oklahoma  40     3923561                7            1     -7\n",
              "      37                Oregon  41     4093465                7           -1      7\n",
              "      38          Pennsylvania  42    12784227               20            1    -20\n",
              "      39          Rhode Island  44     1056426                4           -1      4\n",
              "      40        South Carolina  45     4961119                9            1     -9\n",
              "      41          South Dakota  46      865454                3            1     -3\n",
              "      42             Tennessee  47     6651194               11            1    -11\n",
              "      43                 Texas  48    27862596               38            1    -38\n",
              "      44                  Utah  49     3051217                6            1     -6\n",
              "      45               Vermont  50      624594                3           -1      3\n",
              "      46              Virginia  51     8411808               13           -1     13\n",
              "      47            Washington  53     7288000               12           -1     12\n",
              "      48         West Virginia  54     1831102                5            1     -5\n",
              "      49             Wisconsin  55     5778708               10            1    -10\n",
              "      50               Wyoming  56      585501                3            1     -3\n",
              "      51           Puerto Rico  72     3411307                0           -1      0,\n",
              "      fields: ['votes'],\n",
              "      key: 'id'\n",
              "    }),\n",
              "    lookup: 'id'\n",
              "  })],\n",
              "  width: 500\n",
              "})"
            ],
            "text/html": [
              "<!DOCTYPE html>\n",
              "<html>\n",
              "<head>\n",
              "  <style>\n",
              "    .vega-actions a {\n",
              "        margin-right: 12px;\n",
              "        color: #757575;\n",
              "        font-weight: normal;\n",
              "        font-size: 13px;\n",
              "    }\n",
              "    .error {\n",
              "        color: red;\n",
              "    }\n",
              "  </style>\n",
              "  <script type=\"text/javascript\" src=\"https://cdn.jsdelivr.net/npm//vega@4\"></script>\n",
              "  <script type=\"text/javascript\" src=\"https://cdn.jsdelivr.net/npm//vega-lite@2.6.0\"></script>\n",
              "  <script type=\"text/javascript\" src=\"https://cdn.jsdelivr.net/npm//vega-embed@3\"></script>\n",
              "</head>\n",
              "<body>\n",
              "  <div id=\"altair-viz\"></div>\n",
              "  <script>\n",
              "      var spec = {\"config\": {\"view\": {\"width\": 400, \"height\": 300}}, \"data\": {\"url\": \"https://vega.github.io/vega-datasets/data/us-10m.json\", \"format\": {\"feature\": \"states\", \"type\": \"topojson\"}}, \"mark\": \"geoshape\", \"encoding\": {\"color\": {\"type\": \"nominal\", \"field\": \"votes\", \"legend\": null, \"scale\": {\"scheme\": \"redblue\"}}}, \"height\": 300, \"projection\": {\"type\": \"albersUsa\"}, \"title\": \"2016 US Presidential Election Map, Shaded by # Electoral Votes\", \"transform\": [{\"lookup\": \"id\", \"from\": {\"data\": {\"name\": \"data-c3d350777a1b475e034740e96c03e465\"}, \"key\": \"id\", \"fields\": [\"votes\"]}}], \"width\": 500, \"$schema\": \"https://vega.github.io/schema/vega-lite/v2.6.0.json\", \"datasets\": {\"data-c3d350777a1b475e034740e96c03e465\": [{\"state\": \"Alabama\", \"id\": 1, \"population\": 4863300, \"electoral_votes\": 9, \"is_red_2016\": 1, \"votes\": -9}, {\"state\": \"Alaska\", \"id\": 2, \"population\": 741894, \"electoral_votes\": 3, \"is_red_2016\": 1, \"votes\": -3}, {\"state\": \"Arizona\", \"id\": 4, \"population\": 6931071, \"electoral_votes\": 11, \"is_red_2016\": 1, \"votes\": -11}, {\"state\": \"Arkansas\", \"id\": 5, \"population\": 2988248, \"electoral_votes\": 6, \"is_red_2016\": 1, \"votes\": -6}, {\"state\": \"California\", \"id\": 6, \"population\": 39250017, \"electoral_votes\": 55, \"is_red_2016\": -1, \"votes\": 55}, {\"state\": \"Colorado\", \"id\": 8, \"population\": 5540545, \"electoral_votes\": 9, \"is_red_2016\": -1, \"votes\": 9}, {\"state\": \"Connecticut\", \"id\": 9, \"population\": 3576452, \"electoral_votes\": 7, \"is_red_2016\": -1, \"votes\": 7}, {\"state\": \"Delaware\", \"id\": 10, \"population\": 952065, \"electoral_votes\": 3, \"is_red_2016\": -1, \"votes\": 3}, {\"state\": \"District of Columbia\", \"id\": 11, \"population\": 681170, \"electoral_votes\": 3, \"is_red_2016\": -1, \"votes\": 3}, {\"state\": \"Florida\", \"id\": 12, \"population\": 20612439, \"electoral_votes\": 29, \"is_red_2016\": 1, \"votes\": -29}, {\"state\": \"Georgia\", \"id\": 13, \"population\": 10310371, \"electoral_votes\": 16, \"is_red_2016\": 1, \"votes\": -16}, {\"state\": \"Hawaii\", \"id\": 15, \"population\": 1428557, \"electoral_votes\": 4, \"is_red_2016\": -1, \"votes\": 4}, {\"state\": \"Idaho\", \"id\": 16, \"population\": 1683140, \"electoral_votes\": 4, \"is_red_2016\": 1, \"votes\": -4}, {\"state\": \"Illinois\", \"id\": 17, \"population\": 12801539, \"electoral_votes\": 20, \"is_red_2016\": -1, \"votes\": 20}, {\"state\": \"Indiana\", \"id\": 18, \"population\": 6633053, \"electoral_votes\": 11, \"is_red_2016\": 1, \"votes\": -11}, {\"state\": \"Iowa\", \"id\": 19, \"population\": 3134693, \"electoral_votes\": 6, \"is_red_2016\": 1, \"votes\": -6}, {\"state\": \"Kansas\", \"id\": 20, \"population\": 2907289, \"electoral_votes\": 6, \"is_red_2016\": 1, \"votes\": -6}, {\"state\": \"Kentucky\", \"id\": 21, \"population\": 4436974, \"electoral_votes\": 8, \"is_red_2016\": 1, \"votes\": -8}, {\"state\": \"Louisiana\", \"id\": 22, \"population\": 4681666, \"electoral_votes\": 8, \"is_red_2016\": 1, \"votes\": -8}, {\"state\": \"Maine\", \"id\": 23, \"population\": 1331479, \"electoral_votes\": 4, \"is_red_2016\": -1, \"votes\": 4}, {\"state\": \"Maryland\", \"id\": 24, \"population\": 6016447, \"electoral_votes\": 10, \"is_red_2016\": -1, \"votes\": 10}, {\"state\": \"Massachusetts\", \"id\": 25, \"population\": 6811779, \"electoral_votes\": 11, \"is_red_2016\": -1, \"votes\": 11}, {\"state\": \"Michigan\", \"id\": 26, \"population\": 9928300, \"electoral_votes\": 16, \"is_red_2016\": 1, \"votes\": -16}, {\"state\": \"Minnesota\", \"id\": 27, \"population\": 5519952, \"electoral_votes\": 10, \"is_red_2016\": -1, \"votes\": 10}, {\"state\": \"Mississippi\", \"id\": 28, \"population\": 2988726, \"electoral_votes\": 6, \"is_red_2016\": 1, \"votes\": -6}, {\"state\": \"Missouri\", \"id\": 29, \"population\": 6093000, \"electoral_votes\": 10, \"is_red_2016\": 1, \"votes\": -10}, {\"state\": \"Montana\", \"id\": 30, \"population\": 1042520, \"electoral_votes\": 3, \"is_red_2016\": 1, \"votes\": -3}, {\"state\": \"Nebraska\", \"id\": 31, \"population\": 1907116, \"electoral_votes\": 5, \"is_red_2016\": 1, \"votes\": -5}, {\"state\": \"Nevada\", \"id\": 32, \"population\": 2940058, \"electoral_votes\": 6, \"is_red_2016\": -1, \"votes\": 6}, {\"state\": \"New Hampshire\", \"id\": 33, \"population\": 1334795, \"electoral_votes\": 4, \"is_red_2016\": -1, \"votes\": 4}, {\"state\": \"New Jersey\", \"id\": 34, \"population\": 8944469, \"electoral_votes\": 14, \"is_red_2016\": -1, \"votes\": 14}, {\"state\": \"New Mexico\", \"id\": 35, \"population\": 2081015, \"electoral_votes\": 5, \"is_red_2016\": -1, \"votes\": 5}, {\"state\": \"New York\", \"id\": 36, \"population\": 19745289, \"electoral_votes\": 29, \"is_red_2016\": -1, \"votes\": 29}, {\"state\": \"North Carolina\", \"id\": 37, \"population\": 10146788, \"electoral_votes\": 15, \"is_red_2016\": 1, \"votes\": -15}, {\"state\": \"North Dakota\", \"id\": 38, \"population\": 757952, \"electoral_votes\": 3, \"is_red_2016\": 1, \"votes\": -3}, {\"state\": \"Ohio\", \"id\": 39, \"population\": 11614373, \"electoral_votes\": 18, \"is_red_2016\": 1, \"votes\": -18}, {\"state\": \"Oklahoma\", \"id\": 40, \"population\": 3923561, \"electoral_votes\": 7, \"is_red_2016\": 1, \"votes\": -7}, {\"state\": \"Oregon\", \"id\": 41, \"population\": 4093465, \"electoral_votes\": 7, \"is_red_2016\": -1, \"votes\": 7}, {\"state\": \"Pennsylvania\", \"id\": 42, \"population\": 12784227, \"electoral_votes\": 20, \"is_red_2016\": 1, \"votes\": -20}, {\"state\": \"Rhode Island\", \"id\": 44, \"population\": 1056426, \"electoral_votes\": 4, \"is_red_2016\": -1, \"votes\": 4}, {\"state\": \"South Carolina\", \"id\": 45, \"population\": 4961119, \"electoral_votes\": 9, \"is_red_2016\": 1, \"votes\": -9}, {\"state\": \"South Dakota\", \"id\": 46, \"population\": 865454, \"electoral_votes\": 3, \"is_red_2016\": 1, \"votes\": -3}, {\"state\": \"Tennessee\", \"id\": 47, \"population\": 6651194, \"electoral_votes\": 11, \"is_red_2016\": 1, \"votes\": -11}, {\"state\": \"Texas\", \"id\": 48, \"population\": 27862596, \"electoral_votes\": 38, \"is_red_2016\": 1, \"votes\": -38}, {\"state\": \"Utah\", \"id\": 49, \"population\": 3051217, \"electoral_votes\": 6, \"is_red_2016\": 1, \"votes\": -6}, {\"state\": \"Vermont\", \"id\": 50, \"population\": 624594, \"electoral_votes\": 3, \"is_red_2016\": -1, \"votes\": 3}, {\"state\": \"Virginia\", \"id\": 51, \"population\": 8411808, \"electoral_votes\": 13, \"is_red_2016\": -1, \"votes\": 13}, {\"state\": \"Washington\", \"id\": 53, \"population\": 7288000, \"electoral_votes\": 12, \"is_red_2016\": -1, \"votes\": 12}, {\"state\": \"West Virginia\", \"id\": 54, \"population\": 1831102, \"electoral_votes\": 5, \"is_red_2016\": 1, \"votes\": -5}, {\"state\": \"Wisconsin\", \"id\": 55, \"population\": 5778708, \"electoral_votes\": 10, \"is_red_2016\": 1, \"votes\": -10}, {\"state\": \"Wyoming\", \"id\": 56, \"population\": 585501, \"electoral_votes\": 3, \"is_red_2016\": 1, \"votes\": -3}, {\"state\": \"Puerto Rico\", \"id\": 72, \"population\": 3411307, \"electoral_votes\": 0, \"is_red_2016\": -1, \"votes\": 0}]}};\n",
              "      var embedOpt = {\"mode\": \"vega-lite\"};\n",
              "\n",
              "      function showError(el, error){\n",
              "          el.innerHTML = ('<div class=\"error\" style=\"color:red;\">'\n",
              "                          + '<p>JavaScript Error: ' + error.message + '</p>'\n",
              "                          + \"<p>This usually means there's a typo in your chart specification. \"\n",
              "                          + \"See the javascript console for the full traceback.</p>\"\n",
              "                          + '</div>');\n",
              "          throw error;\n",
              "      }\n",
              "      const el = document.getElementById('altair-viz');\n",
              "      vegaEmbed(\"#altair-viz\", spec, embedOpt)\n",
              "        .catch(error => showError(el, error));\n",
              "\n",
              "  </script>\n",
              "</body>\n",
              "</html>"
            ]
          },
          "metadata": {
            "tags": []
          },
          "execution_count": 101
        }
      ]
    },
    {
      "metadata": {
        "id": "HBVx9i-8uPJy",
        "colab_type": "code",
        "colab": {
          "base_uri": "https://localhost:8080/",
          "height": 348
        },
        "outputId": "d4fc1da3-139c-4efc-d60f-eede84c2b824"
      },
      "cell_type": "code",
      "source": [
        "#Traditional Red v Blue Map:\n",
        "\n",
        "electoral_df['is_red_2016'] = electoral_df['is_red_2016'].replace({1:np.NaN})\n",
        "\n",
        "variable = 'is_red_2016'\n",
        "\n",
        "alt.Chart(states).mark_geoshape().encode(\n",
        "    alt.Color(variable, legend=None, type='nominal', scale=alt.Scale(scheme='set1'))\n",
        "    ).transform_lookup(\n",
        "        lookup='id',\n",
        "        from_=alt.LookupData(electoral_df, 'id', [variable])\n",
        "    ).properties(\n",
        "        title='2016 US Presidential Election Electoral Map: Republican (Red) vs Democrat (Blue)',\n",
        "        width=500,\n",
        "        height=300\n",
        "    ).project(\n",
        "        type='albersUsa')\n"
      ],
      "execution_count": 102,
      "outputs": [
        {
          "output_type": "execute_result",
          "data": {
            "text/plain": [
              "Chart({\n",
              "  data: UrlData({\n",
              "    format: TopoDataFormat({\n",
              "      feature: 'states',\n",
              "      type: 'topojson'\n",
              "    }),\n",
              "    url: 'https://vega.github.io/vega-datasets/data/us-10m.json'\n",
              "  }),\n",
              "  encoding: EncodingWithFacet({\n",
              "    color: Color({\n",
              "      legend: None,\n",
              "      scale: Scale({\n",
              "        scheme: 'set1'\n",
              "      }),\n",
              "      shorthand: 'is_red_2016',\n",
              "      type: 'nominal'\n",
              "    })\n",
              "  }),\n",
              "  height: 300,\n",
              "  mark: 'geoshape',\n",
              "  projection: Projection({\n",
              "    type: 'albersUsa'\n",
              "  }),\n",
              "  title: '2016 US Presidential Election Electoral Map: Republican (Red) vs Democrat (Blue)',\n",
              "  transform: [LookupTransform({\n",
              "    from: LookupData({\n",
              "      data:                    state  id  population  electoral_votes  is_red_2016  votes\n",
              "      0                Alabama   1     4863300                9          NaN     -9\n",
              "      1                 Alaska   2      741894                3          NaN     -3\n",
              "      2                Arizona   4     6931071               11          NaN    -11\n",
              "      3               Arkansas   5     2988248                6          NaN     -6\n",
              "      4             California   6    39250017               55         -1.0     55\n",
              "      5               Colorado   8     5540545                9         -1.0      9\n",
              "      6            Connecticut   9     3576452                7         -1.0      7\n",
              "      7               Delaware  10      952065                3         -1.0      3\n",
              "      8   District of Columbia  11      681170                3         -1.0      3\n",
              "      9                Florida  12    20612439               29          NaN    -29\n",
              "      10               Georgia  13    10310371               16          NaN    -16\n",
              "      11                Hawaii  15     1428557                4         -1.0      4\n",
              "      12                 Idaho  16     1683140                4          NaN     -4\n",
              "      13              Illinois  17    12801539               20         -1.0     20\n",
              "      14               Indiana  18     6633053               11          NaN    -11\n",
              "      15                  Iowa  19     3134693                6          NaN     -6\n",
              "      16                Kansas  20     2907289                6          NaN     -6\n",
              "      17              Kentucky  21     4436974                8          NaN     -8\n",
              "      18             Louisiana  22     4681666                8          NaN     -8\n",
              "      19                 Maine  23     1331479                4         -1.0      4\n",
              "      20              Maryland  24     6016447               10         -1.0     10\n",
              "      21         Massachusetts  25     6811779               11         -1.0     11\n",
              "      22              Michigan  26     9928300               16          NaN    -16\n",
              "      23             Minnesota  27     5519952               10         -1.0     10\n",
              "      24           Mississippi  28     2988726                6          NaN     -6\n",
              "      25              Missouri  29     6093000               10          NaN    -10\n",
              "      26               Montana  30     1042520                3          NaN     -3\n",
              "      27              Nebraska  31     1907116                5          NaN     -5\n",
              "      28                Nevada  32     2940058                6         -1.0      6\n",
              "      29         New Hampshire  33     1334795                4         -1.0      4\n",
              "      30            New Jersey  34     8944469               14         -1.0     14\n",
              "      31            New Mexico  35     2081015                5         -1.0      5\n",
              "      32              New York  36    19745289               29         -1.0     29\n",
              "      33        North Carolina  37    10146788               15          NaN    -15\n",
              "      34          North Dakota  38      757952                3          NaN     -3\n",
              "      35                  Ohio  39    11614373               18          NaN    -18\n",
              "      36              Oklahoma  40     3923561                7          NaN     -7\n",
              "      37                Oregon  41     4093465                7         -1.0      7\n",
              "      38          Pennsylvania  42    12784227               20          NaN    -20\n",
              "      39          Rhode Island  44     1056426                4         -1.0      4\n",
              "      40        South Carolina  45     4961119                9          NaN     -9\n",
              "      41          South Dakota  46      865454                3          NaN     -3\n",
              "      42             Tennessee  47     6651194               11          NaN    -11\n",
              "      43                 Texas  48    27862596               38          NaN    -38\n",
              "      44                  Utah  49     3051217                6          NaN     -6\n",
              "      45               Vermont  50      624594                3         -1.0      3\n",
              "      46              Virginia  51     8411808               13         -1.0     13\n",
              "      47            Washington  53     7288000               12         -1.0     12\n",
              "      48         West Virginia  54     1831102                5          NaN     -5\n",
              "      49             Wisconsin  55     5778708               10          NaN    -10\n",
              "      50               Wyoming  56      585501                3          NaN     -3\n",
              "      51           Puerto Rico  72     3411307                0         -1.0      0,\n",
              "      fields: ['is_red_2016'],\n",
              "      key: 'id'\n",
              "    }),\n",
              "    lookup: 'id'\n",
              "  })],\n",
              "  width: 500\n",
              "})"
            ],
            "text/html": [
              "<!DOCTYPE html>\n",
              "<html>\n",
              "<head>\n",
              "  <style>\n",
              "    .vega-actions a {\n",
              "        margin-right: 12px;\n",
              "        color: #757575;\n",
              "        font-weight: normal;\n",
              "        font-size: 13px;\n",
              "    }\n",
              "    .error {\n",
              "        color: red;\n",
              "    }\n",
              "  </style>\n",
              "  <script type=\"text/javascript\" src=\"https://cdn.jsdelivr.net/npm//vega@4\"></script>\n",
              "  <script type=\"text/javascript\" src=\"https://cdn.jsdelivr.net/npm//vega-lite@2.6.0\"></script>\n",
              "  <script type=\"text/javascript\" src=\"https://cdn.jsdelivr.net/npm//vega-embed@3\"></script>\n",
              "</head>\n",
              "<body>\n",
              "  <div id=\"altair-viz\"></div>\n",
              "  <script>\n",
              "      var spec = {\"config\": {\"view\": {\"width\": 400, \"height\": 300}}, \"data\": {\"url\": \"https://vega.github.io/vega-datasets/data/us-10m.json\", \"format\": {\"feature\": \"states\", \"type\": \"topojson\"}}, \"mark\": \"geoshape\", \"encoding\": {\"color\": {\"type\": \"nominal\", \"field\": \"is_red_2016\", \"legend\": null, \"scale\": {\"scheme\": \"set1\"}}}, \"height\": 300, \"projection\": {\"type\": \"albersUsa\"}, \"title\": \"2016 US Presidential Election Electoral Map: Republican (Red) vs Democrat (Blue)\", \"transform\": [{\"lookup\": \"id\", \"from\": {\"data\": {\"name\": \"data-537d3fda54b8792cf88eb3eef5e39b74\"}, \"key\": \"id\", \"fields\": [\"is_red_2016\"]}}], \"width\": 500, \"$schema\": \"https://vega.github.io/schema/vega-lite/v2.6.0.json\", \"datasets\": {\"data-537d3fda54b8792cf88eb3eef5e39b74\": [{\"state\": \"Alabama\", \"id\": 1, \"population\": 4863300, \"electoral_votes\": 9, \"is_red_2016\": null, \"votes\": -9}, {\"state\": \"Alaska\", \"id\": 2, \"population\": 741894, \"electoral_votes\": 3, \"is_red_2016\": null, \"votes\": -3}, {\"state\": \"Arizona\", \"id\": 4, \"population\": 6931071, \"electoral_votes\": 11, \"is_red_2016\": null, \"votes\": -11}, {\"state\": \"Arkansas\", \"id\": 5, \"population\": 2988248, \"electoral_votes\": 6, \"is_red_2016\": null, \"votes\": -6}, {\"state\": \"California\", \"id\": 6, \"population\": 39250017, \"electoral_votes\": 55, \"is_red_2016\": -1.0, \"votes\": 55}, {\"state\": \"Colorado\", \"id\": 8, \"population\": 5540545, \"electoral_votes\": 9, \"is_red_2016\": -1.0, \"votes\": 9}, {\"state\": \"Connecticut\", \"id\": 9, \"population\": 3576452, \"electoral_votes\": 7, \"is_red_2016\": -1.0, \"votes\": 7}, {\"state\": \"Delaware\", \"id\": 10, \"population\": 952065, \"electoral_votes\": 3, \"is_red_2016\": -1.0, \"votes\": 3}, {\"state\": \"District of Columbia\", \"id\": 11, \"population\": 681170, \"electoral_votes\": 3, \"is_red_2016\": -1.0, \"votes\": 3}, {\"state\": \"Florida\", \"id\": 12, \"population\": 20612439, \"electoral_votes\": 29, \"is_red_2016\": null, \"votes\": -29}, {\"state\": \"Georgia\", \"id\": 13, \"population\": 10310371, \"electoral_votes\": 16, \"is_red_2016\": null, \"votes\": -16}, {\"state\": \"Hawaii\", \"id\": 15, \"population\": 1428557, \"electoral_votes\": 4, \"is_red_2016\": -1.0, \"votes\": 4}, {\"state\": \"Idaho\", \"id\": 16, \"population\": 1683140, \"electoral_votes\": 4, \"is_red_2016\": null, \"votes\": -4}, {\"state\": \"Illinois\", \"id\": 17, \"population\": 12801539, \"electoral_votes\": 20, \"is_red_2016\": -1.0, \"votes\": 20}, {\"state\": \"Indiana\", \"id\": 18, \"population\": 6633053, \"electoral_votes\": 11, \"is_red_2016\": null, \"votes\": -11}, {\"state\": \"Iowa\", \"id\": 19, \"population\": 3134693, \"electoral_votes\": 6, \"is_red_2016\": null, \"votes\": -6}, {\"state\": \"Kansas\", \"id\": 20, \"population\": 2907289, \"electoral_votes\": 6, \"is_red_2016\": null, \"votes\": -6}, {\"state\": \"Kentucky\", \"id\": 21, \"population\": 4436974, \"electoral_votes\": 8, \"is_red_2016\": null, \"votes\": -8}, {\"state\": \"Louisiana\", \"id\": 22, \"population\": 4681666, \"electoral_votes\": 8, \"is_red_2016\": null, \"votes\": -8}, {\"state\": \"Maine\", \"id\": 23, \"population\": 1331479, \"electoral_votes\": 4, \"is_red_2016\": -1.0, \"votes\": 4}, {\"state\": \"Maryland\", \"id\": 24, \"population\": 6016447, \"electoral_votes\": 10, \"is_red_2016\": -1.0, \"votes\": 10}, {\"state\": \"Massachusetts\", \"id\": 25, \"population\": 6811779, \"electoral_votes\": 11, \"is_red_2016\": -1.0, \"votes\": 11}, {\"state\": \"Michigan\", \"id\": 26, \"population\": 9928300, \"electoral_votes\": 16, \"is_red_2016\": null, \"votes\": -16}, {\"state\": \"Minnesota\", \"id\": 27, \"population\": 5519952, \"electoral_votes\": 10, \"is_red_2016\": -1.0, \"votes\": 10}, {\"state\": \"Mississippi\", \"id\": 28, \"population\": 2988726, \"electoral_votes\": 6, \"is_red_2016\": null, \"votes\": -6}, {\"state\": \"Missouri\", \"id\": 29, \"population\": 6093000, \"electoral_votes\": 10, \"is_red_2016\": null, \"votes\": -10}, {\"state\": \"Montana\", \"id\": 30, \"population\": 1042520, \"electoral_votes\": 3, \"is_red_2016\": null, \"votes\": -3}, {\"state\": \"Nebraska\", \"id\": 31, \"population\": 1907116, \"electoral_votes\": 5, \"is_red_2016\": null, \"votes\": -5}, {\"state\": \"Nevada\", \"id\": 32, \"population\": 2940058, \"electoral_votes\": 6, \"is_red_2016\": -1.0, \"votes\": 6}, {\"state\": \"New Hampshire\", \"id\": 33, \"population\": 1334795, \"electoral_votes\": 4, \"is_red_2016\": -1.0, \"votes\": 4}, {\"state\": \"New Jersey\", \"id\": 34, \"population\": 8944469, \"electoral_votes\": 14, \"is_red_2016\": -1.0, \"votes\": 14}, {\"state\": \"New Mexico\", \"id\": 35, \"population\": 2081015, \"electoral_votes\": 5, \"is_red_2016\": -1.0, \"votes\": 5}, {\"state\": \"New York\", \"id\": 36, \"population\": 19745289, \"electoral_votes\": 29, \"is_red_2016\": -1.0, \"votes\": 29}, {\"state\": \"North Carolina\", \"id\": 37, \"population\": 10146788, \"electoral_votes\": 15, \"is_red_2016\": null, \"votes\": -15}, {\"state\": \"North Dakota\", \"id\": 38, \"population\": 757952, \"electoral_votes\": 3, \"is_red_2016\": null, \"votes\": -3}, {\"state\": \"Ohio\", \"id\": 39, \"population\": 11614373, \"electoral_votes\": 18, \"is_red_2016\": null, \"votes\": -18}, {\"state\": \"Oklahoma\", \"id\": 40, \"population\": 3923561, \"electoral_votes\": 7, \"is_red_2016\": null, \"votes\": -7}, {\"state\": \"Oregon\", \"id\": 41, \"population\": 4093465, \"electoral_votes\": 7, \"is_red_2016\": -1.0, \"votes\": 7}, {\"state\": \"Pennsylvania\", \"id\": 42, \"population\": 12784227, \"electoral_votes\": 20, \"is_red_2016\": null, \"votes\": -20}, {\"state\": \"Rhode Island\", \"id\": 44, \"population\": 1056426, \"electoral_votes\": 4, \"is_red_2016\": -1.0, \"votes\": 4}, {\"state\": \"South Carolina\", \"id\": 45, \"population\": 4961119, \"electoral_votes\": 9, \"is_red_2016\": null, \"votes\": -9}, {\"state\": \"South Dakota\", \"id\": 46, \"population\": 865454, \"electoral_votes\": 3, \"is_red_2016\": null, \"votes\": -3}, {\"state\": \"Tennessee\", \"id\": 47, \"population\": 6651194, \"electoral_votes\": 11, \"is_red_2016\": null, \"votes\": -11}, {\"state\": \"Texas\", \"id\": 48, \"population\": 27862596, \"electoral_votes\": 38, \"is_red_2016\": null, \"votes\": -38}, {\"state\": \"Utah\", \"id\": 49, \"population\": 3051217, \"electoral_votes\": 6, \"is_red_2016\": null, \"votes\": -6}, {\"state\": \"Vermont\", \"id\": 50, \"population\": 624594, \"electoral_votes\": 3, \"is_red_2016\": -1.0, \"votes\": 3}, {\"state\": \"Virginia\", \"id\": 51, \"population\": 8411808, \"electoral_votes\": 13, \"is_red_2016\": -1.0, \"votes\": 13}, {\"state\": \"Washington\", \"id\": 53, \"population\": 7288000, \"electoral_votes\": 12, \"is_red_2016\": -1.0, \"votes\": 12}, {\"state\": \"West Virginia\", \"id\": 54, \"population\": 1831102, \"electoral_votes\": 5, \"is_red_2016\": null, \"votes\": -5}, {\"state\": \"Wisconsin\", \"id\": 55, \"population\": 5778708, \"electoral_votes\": 10, \"is_red_2016\": null, \"votes\": -10}, {\"state\": \"Wyoming\", \"id\": 56, \"population\": 585501, \"electoral_votes\": 3, \"is_red_2016\": null, \"votes\": -3}, {\"state\": \"Puerto Rico\", \"id\": 72, \"population\": 3411307, \"electoral_votes\": 0, \"is_red_2016\": -1.0, \"votes\": 0}]}};\n",
              "      var embedOpt = {\"mode\": \"vega-lite\"};\n",
              "\n",
              "      function showError(el, error){\n",
              "          el.innerHTML = ('<div class=\"error\" style=\"color:red;\">'\n",
              "                          + '<p>JavaScript Error: ' + error.message + '</p>'\n",
              "                          + \"<p>This usually means there's a typo in your chart specification. \"\n",
              "                          + \"See the javascript console for the full traceback.</p>\"\n",
              "                          + '</div>');\n",
              "          throw error;\n",
              "      }\n",
              "      const el = document.getElementById('altair-viz');\n",
              "      vegaEmbed(\"#altair-viz\", spec, embedOpt)\n",
              "        .catch(error => showError(el, error));\n",
              "\n",
              "  </script>\n",
              "</body>\n",
              "</html>"
            ]
          },
          "metadata": {
            "tags": []
          },
          "execution_count": 102
        }
      ]
    },
    {
      "metadata": {
        "id": "j8uxsevgvoQ4",
        "colab_type": "code",
        "colab": {}
      },
      "cell_type": "code",
      "source": [
        ""
      ],
      "execution_count": 0,
      "outputs": []
    }
  ]
}